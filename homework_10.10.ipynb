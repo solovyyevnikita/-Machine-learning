{
 "cells": [
  {
   "cell_type": "code",
   "execution_count": 179,
   "metadata": {},
   "outputs": [],
   "source": [
    "import numpy as np\n",
    "from scipy.io import arff\n",
    "import pandas as pd\n",
    "import matplotlib.pyplot as plt"
   ]
  },
  {
   "cell_type": "code",
   "execution_count": 12,
   "metadata": {},
   "outputs": [],
   "source": [
    "file_arff=arff.loadarff(\"Eye.arff\")\n",
    "data=pd.DataFrame(file_arff[0])"
   ]
  },
  {
   "cell_type": "code",
   "execution_count": 13,
   "metadata": {},
   "outputs": [
    {
     "data": {
      "text/plain": [
       "pandas.core.frame.DataFrame"
      ]
     },
     "execution_count": 13,
     "metadata": {},
     "output_type": "execute_result"
    }
   ],
   "source": [
    "type(data)"
   ]
  },
  {
   "cell_type": "code",
   "execution_count": 14,
   "metadata": {},
   "outputs": [
    {
     "data": {
      "text/html": [
       "<div>\n",
       "<style scoped>\n",
       "    .dataframe tbody tr th:only-of-type {\n",
       "        vertical-align: middle;\n",
       "    }\n",
       "\n",
       "    .dataframe tbody tr th {\n",
       "        vertical-align: top;\n",
       "    }\n",
       "\n",
       "    .dataframe thead th {\n",
       "        text-align: right;\n",
       "    }\n",
       "</style>\n",
       "<table border=\"1\" class=\"dataframe\">\n",
       "  <thead>\n",
       "    <tr style=\"text-align: right;\">\n",
       "      <th></th>\n",
       "      <th>AF3</th>\n",
       "      <th>F7</th>\n",
       "      <th>F3</th>\n",
       "      <th>FC5</th>\n",
       "      <th>T7</th>\n",
       "      <th>P7</th>\n",
       "      <th>O1</th>\n",
       "      <th>O2</th>\n",
       "      <th>P8</th>\n",
       "      <th>T8</th>\n",
       "      <th>FC6</th>\n",
       "      <th>F4</th>\n",
       "      <th>F8</th>\n",
       "      <th>AF4</th>\n",
       "      <th>eyeDetection</th>\n",
       "    </tr>\n",
       "  </thead>\n",
       "  <tbody>\n",
       "    <tr>\n",
       "      <td>0</td>\n",
       "      <td>4329.23</td>\n",
       "      <td>4009.23</td>\n",
       "      <td>4289.23</td>\n",
       "      <td>4148.21</td>\n",
       "      <td>4350.26</td>\n",
       "      <td>4586.15</td>\n",
       "      <td>4096.92</td>\n",
       "      <td>4641.03</td>\n",
       "      <td>4222.05</td>\n",
       "      <td>4238.46</td>\n",
       "      <td>4211.28</td>\n",
       "      <td>4280.51</td>\n",
       "      <td>4635.90</td>\n",
       "      <td>4393.85</td>\n",
       "      <td>b'0'</td>\n",
       "    </tr>\n",
       "    <tr>\n",
       "      <td>1</td>\n",
       "      <td>4324.62</td>\n",
       "      <td>4004.62</td>\n",
       "      <td>4293.85</td>\n",
       "      <td>4148.72</td>\n",
       "      <td>4342.05</td>\n",
       "      <td>4586.67</td>\n",
       "      <td>4097.44</td>\n",
       "      <td>4638.97</td>\n",
       "      <td>4210.77</td>\n",
       "      <td>4226.67</td>\n",
       "      <td>4207.69</td>\n",
       "      <td>4279.49</td>\n",
       "      <td>4632.82</td>\n",
       "      <td>4384.10</td>\n",
       "      <td>b'0'</td>\n",
       "    </tr>\n",
       "    <tr>\n",
       "      <td>2</td>\n",
       "      <td>4327.69</td>\n",
       "      <td>4006.67</td>\n",
       "      <td>4295.38</td>\n",
       "      <td>4156.41</td>\n",
       "      <td>4336.92</td>\n",
       "      <td>4583.59</td>\n",
       "      <td>4096.92</td>\n",
       "      <td>4630.26</td>\n",
       "      <td>4207.69</td>\n",
       "      <td>4222.05</td>\n",
       "      <td>4206.67</td>\n",
       "      <td>4282.05</td>\n",
       "      <td>4628.72</td>\n",
       "      <td>4389.23</td>\n",
       "      <td>b'0'</td>\n",
       "    </tr>\n",
       "    <tr>\n",
       "      <td>3</td>\n",
       "      <td>4328.72</td>\n",
       "      <td>4011.79</td>\n",
       "      <td>4296.41</td>\n",
       "      <td>4155.90</td>\n",
       "      <td>4343.59</td>\n",
       "      <td>4582.56</td>\n",
       "      <td>4097.44</td>\n",
       "      <td>4630.77</td>\n",
       "      <td>4217.44</td>\n",
       "      <td>4235.38</td>\n",
       "      <td>4210.77</td>\n",
       "      <td>4287.69</td>\n",
       "      <td>4632.31</td>\n",
       "      <td>4396.41</td>\n",
       "      <td>b'0'</td>\n",
       "    </tr>\n",
       "    <tr>\n",
       "      <td>4</td>\n",
       "      <td>4326.15</td>\n",
       "      <td>4011.79</td>\n",
       "      <td>4292.31</td>\n",
       "      <td>4151.28</td>\n",
       "      <td>4347.69</td>\n",
       "      <td>4586.67</td>\n",
       "      <td>4095.90</td>\n",
       "      <td>4627.69</td>\n",
       "      <td>4210.77</td>\n",
       "      <td>4244.10</td>\n",
       "      <td>4212.82</td>\n",
       "      <td>4288.21</td>\n",
       "      <td>4632.82</td>\n",
       "      <td>4398.46</td>\n",
       "      <td>b'0'</td>\n",
       "    </tr>\n",
       "    <tr>\n",
       "      <td>...</td>\n",
       "      <td>...</td>\n",
       "      <td>...</td>\n",
       "      <td>...</td>\n",
       "      <td>...</td>\n",
       "      <td>...</td>\n",
       "      <td>...</td>\n",
       "      <td>...</td>\n",
       "      <td>...</td>\n",
       "      <td>...</td>\n",
       "      <td>...</td>\n",
       "      <td>...</td>\n",
       "      <td>...</td>\n",
       "      <td>...</td>\n",
       "      <td>...</td>\n",
       "      <td>...</td>\n",
       "    </tr>\n",
       "    <tr>\n",
       "      <td>14975</td>\n",
       "      <td>4281.03</td>\n",
       "      <td>3990.26</td>\n",
       "      <td>4245.64</td>\n",
       "      <td>4116.92</td>\n",
       "      <td>4333.85</td>\n",
       "      <td>4614.36</td>\n",
       "      <td>4074.87</td>\n",
       "      <td>4625.64</td>\n",
       "      <td>4203.08</td>\n",
       "      <td>4221.54</td>\n",
       "      <td>4171.28</td>\n",
       "      <td>4269.23</td>\n",
       "      <td>4593.33</td>\n",
       "      <td>4340.51</td>\n",
       "      <td>b'1'</td>\n",
       "    </tr>\n",
       "    <tr>\n",
       "      <td>14976</td>\n",
       "      <td>4276.92</td>\n",
       "      <td>3991.79</td>\n",
       "      <td>4245.13</td>\n",
       "      <td>4110.77</td>\n",
       "      <td>4332.82</td>\n",
       "      <td>4615.38</td>\n",
       "      <td>4073.33</td>\n",
       "      <td>4621.54</td>\n",
       "      <td>4194.36</td>\n",
       "      <td>4217.44</td>\n",
       "      <td>4162.56</td>\n",
       "      <td>4259.49</td>\n",
       "      <td>4590.26</td>\n",
       "      <td>4333.33</td>\n",
       "      <td>b'1'</td>\n",
       "    </tr>\n",
       "    <tr>\n",
       "      <td>14977</td>\n",
       "      <td>4277.44</td>\n",
       "      <td>3990.77</td>\n",
       "      <td>4246.67</td>\n",
       "      <td>4113.85</td>\n",
       "      <td>4333.33</td>\n",
       "      <td>4615.38</td>\n",
       "      <td>4072.82</td>\n",
       "      <td>4623.59</td>\n",
       "      <td>4193.33</td>\n",
       "      <td>4212.82</td>\n",
       "      <td>4160.51</td>\n",
       "      <td>4257.95</td>\n",
       "      <td>4591.79</td>\n",
       "      <td>4339.49</td>\n",
       "      <td>b'1'</td>\n",
       "    </tr>\n",
       "    <tr>\n",
       "      <td>14978</td>\n",
       "      <td>4284.62</td>\n",
       "      <td>3991.79</td>\n",
       "      <td>4251.28</td>\n",
       "      <td>4122.05</td>\n",
       "      <td>4334.36</td>\n",
       "      <td>4616.41</td>\n",
       "      <td>4080.51</td>\n",
       "      <td>4628.72</td>\n",
       "      <td>4200.00</td>\n",
       "      <td>4220.00</td>\n",
       "      <td>4165.64</td>\n",
       "      <td>4267.18</td>\n",
       "      <td>4596.41</td>\n",
       "      <td>4350.77</td>\n",
       "      <td>b'1'</td>\n",
       "    </tr>\n",
       "    <tr>\n",
       "      <td>14979</td>\n",
       "      <td>4287.69</td>\n",
       "      <td>3997.44</td>\n",
       "      <td>4260.00</td>\n",
       "      <td>4121.03</td>\n",
       "      <td>4333.33</td>\n",
       "      <td>4616.41</td>\n",
       "      <td>4088.72</td>\n",
       "      <td>4638.46</td>\n",
       "      <td>4212.31</td>\n",
       "      <td>4226.67</td>\n",
       "      <td>4167.69</td>\n",
       "      <td>4274.36</td>\n",
       "      <td>4597.95</td>\n",
       "      <td>4350.77</td>\n",
       "      <td>b'1'</td>\n",
       "    </tr>\n",
       "  </tbody>\n",
       "</table>\n",
       "<p>14980 rows × 15 columns</p>\n",
       "</div>"
      ],
      "text/plain": [
       "           AF3       F7       F3      FC5       T7       P7       O1       O2  \\\n",
       "0      4329.23  4009.23  4289.23  4148.21  4350.26  4586.15  4096.92  4641.03   \n",
       "1      4324.62  4004.62  4293.85  4148.72  4342.05  4586.67  4097.44  4638.97   \n",
       "2      4327.69  4006.67  4295.38  4156.41  4336.92  4583.59  4096.92  4630.26   \n",
       "3      4328.72  4011.79  4296.41  4155.90  4343.59  4582.56  4097.44  4630.77   \n",
       "4      4326.15  4011.79  4292.31  4151.28  4347.69  4586.67  4095.90  4627.69   \n",
       "...        ...      ...      ...      ...      ...      ...      ...      ...   \n",
       "14975  4281.03  3990.26  4245.64  4116.92  4333.85  4614.36  4074.87  4625.64   \n",
       "14976  4276.92  3991.79  4245.13  4110.77  4332.82  4615.38  4073.33  4621.54   \n",
       "14977  4277.44  3990.77  4246.67  4113.85  4333.33  4615.38  4072.82  4623.59   \n",
       "14978  4284.62  3991.79  4251.28  4122.05  4334.36  4616.41  4080.51  4628.72   \n",
       "14979  4287.69  3997.44  4260.00  4121.03  4333.33  4616.41  4088.72  4638.46   \n",
       "\n",
       "            P8       T8      FC6       F4       F8      AF4 eyeDetection  \n",
       "0      4222.05  4238.46  4211.28  4280.51  4635.90  4393.85         b'0'  \n",
       "1      4210.77  4226.67  4207.69  4279.49  4632.82  4384.10         b'0'  \n",
       "2      4207.69  4222.05  4206.67  4282.05  4628.72  4389.23         b'0'  \n",
       "3      4217.44  4235.38  4210.77  4287.69  4632.31  4396.41         b'0'  \n",
       "4      4210.77  4244.10  4212.82  4288.21  4632.82  4398.46         b'0'  \n",
       "...        ...      ...      ...      ...      ...      ...          ...  \n",
       "14975  4203.08  4221.54  4171.28  4269.23  4593.33  4340.51         b'1'  \n",
       "14976  4194.36  4217.44  4162.56  4259.49  4590.26  4333.33         b'1'  \n",
       "14977  4193.33  4212.82  4160.51  4257.95  4591.79  4339.49         b'1'  \n",
       "14978  4200.00  4220.00  4165.64  4267.18  4596.41  4350.77         b'1'  \n",
       "14979  4212.31  4226.67  4167.69  4274.36  4597.95  4350.77         b'1'  \n",
       "\n",
       "[14980 rows x 15 columns]"
      ]
     },
     "execution_count": 14,
     "metadata": {},
     "output_type": "execute_result"
    }
   ],
   "source": [
    "data"
   ]
  },
  {
   "cell_type": "code",
   "execution_count": 15,
   "metadata": {},
   "outputs": [
    {
     "data": {
      "text/html": [
       "<div>\n",
       "<style scoped>\n",
       "    .dataframe tbody tr th:only-of-type {\n",
       "        vertical-align: middle;\n",
       "    }\n",
       "\n",
       "    .dataframe tbody tr th {\n",
       "        vertical-align: top;\n",
       "    }\n",
       "\n",
       "    .dataframe thead th {\n",
       "        text-align: right;\n",
       "    }\n",
       "</style>\n",
       "<table border=\"1\" class=\"dataframe\">\n",
       "  <thead>\n",
       "    <tr style=\"text-align: right;\">\n",
       "      <th></th>\n",
       "      <th>AF3</th>\n",
       "      <th>F7</th>\n",
       "      <th>F3</th>\n",
       "      <th>FC5</th>\n",
       "      <th>T7</th>\n",
       "      <th>P7</th>\n",
       "      <th>O1</th>\n",
       "      <th>O2</th>\n",
       "      <th>P8</th>\n",
       "      <th>T8</th>\n",
       "      <th>FC6</th>\n",
       "      <th>F4</th>\n",
       "      <th>F8</th>\n",
       "      <th>AF4</th>\n",
       "      <th>eyeDetection</th>\n",
       "    </tr>\n",
       "  </thead>\n",
       "  <tbody>\n",
       "    <tr>\n",
       "      <td>0</td>\n",
       "      <td>4329.23</td>\n",
       "      <td>4009.23</td>\n",
       "      <td>4289.23</td>\n",
       "      <td>4148.21</td>\n",
       "      <td>4350.26</td>\n",
       "      <td>4586.15</td>\n",
       "      <td>4096.92</td>\n",
       "      <td>4641.03</td>\n",
       "      <td>4222.05</td>\n",
       "      <td>4238.46</td>\n",
       "      <td>4211.28</td>\n",
       "      <td>4280.51</td>\n",
       "      <td>4635.90</td>\n",
       "      <td>4393.85</td>\n",
       "      <td>b'0'</td>\n",
       "    </tr>\n",
       "    <tr>\n",
       "      <td>1</td>\n",
       "      <td>4324.62</td>\n",
       "      <td>4004.62</td>\n",
       "      <td>4293.85</td>\n",
       "      <td>4148.72</td>\n",
       "      <td>4342.05</td>\n",
       "      <td>4586.67</td>\n",
       "      <td>4097.44</td>\n",
       "      <td>4638.97</td>\n",
       "      <td>4210.77</td>\n",
       "      <td>4226.67</td>\n",
       "      <td>4207.69</td>\n",
       "      <td>4279.49</td>\n",
       "      <td>4632.82</td>\n",
       "      <td>4384.10</td>\n",
       "      <td>b'0'</td>\n",
       "    </tr>\n",
       "    <tr>\n",
       "      <td>2</td>\n",
       "      <td>4327.69</td>\n",
       "      <td>4006.67</td>\n",
       "      <td>4295.38</td>\n",
       "      <td>4156.41</td>\n",
       "      <td>4336.92</td>\n",
       "      <td>4583.59</td>\n",
       "      <td>4096.92</td>\n",
       "      <td>4630.26</td>\n",
       "      <td>4207.69</td>\n",
       "      <td>4222.05</td>\n",
       "      <td>4206.67</td>\n",
       "      <td>4282.05</td>\n",
       "      <td>4628.72</td>\n",
       "      <td>4389.23</td>\n",
       "      <td>b'0'</td>\n",
       "    </tr>\n",
       "    <tr>\n",
       "      <td>3</td>\n",
       "      <td>4328.72</td>\n",
       "      <td>4011.79</td>\n",
       "      <td>4296.41</td>\n",
       "      <td>4155.90</td>\n",
       "      <td>4343.59</td>\n",
       "      <td>4582.56</td>\n",
       "      <td>4097.44</td>\n",
       "      <td>4630.77</td>\n",
       "      <td>4217.44</td>\n",
       "      <td>4235.38</td>\n",
       "      <td>4210.77</td>\n",
       "      <td>4287.69</td>\n",
       "      <td>4632.31</td>\n",
       "      <td>4396.41</td>\n",
       "      <td>b'0'</td>\n",
       "    </tr>\n",
       "    <tr>\n",
       "      <td>4</td>\n",
       "      <td>4326.15</td>\n",
       "      <td>4011.79</td>\n",
       "      <td>4292.31</td>\n",
       "      <td>4151.28</td>\n",
       "      <td>4347.69</td>\n",
       "      <td>4586.67</td>\n",
       "      <td>4095.90</td>\n",
       "      <td>4627.69</td>\n",
       "      <td>4210.77</td>\n",
       "      <td>4244.10</td>\n",
       "      <td>4212.82</td>\n",
       "      <td>4288.21</td>\n",
       "      <td>4632.82</td>\n",
       "      <td>4398.46</td>\n",
       "      <td>b'0'</td>\n",
       "    </tr>\n",
       "  </tbody>\n",
       "</table>\n",
       "</div>"
      ],
      "text/plain": [
       "       AF3       F7       F3      FC5       T7       P7       O1       O2  \\\n",
       "0  4329.23  4009.23  4289.23  4148.21  4350.26  4586.15  4096.92  4641.03   \n",
       "1  4324.62  4004.62  4293.85  4148.72  4342.05  4586.67  4097.44  4638.97   \n",
       "2  4327.69  4006.67  4295.38  4156.41  4336.92  4583.59  4096.92  4630.26   \n",
       "3  4328.72  4011.79  4296.41  4155.90  4343.59  4582.56  4097.44  4630.77   \n",
       "4  4326.15  4011.79  4292.31  4151.28  4347.69  4586.67  4095.90  4627.69   \n",
       "\n",
       "        P8       T8      FC6       F4       F8      AF4 eyeDetection  \n",
       "0  4222.05  4238.46  4211.28  4280.51  4635.90  4393.85         b'0'  \n",
       "1  4210.77  4226.67  4207.69  4279.49  4632.82  4384.10         b'0'  \n",
       "2  4207.69  4222.05  4206.67  4282.05  4628.72  4389.23         b'0'  \n",
       "3  4217.44  4235.38  4210.77  4287.69  4632.31  4396.41         b'0'  \n",
       "4  4210.77  4244.10  4212.82  4288.21  4632.82  4398.46         b'0'  "
      ]
     },
     "execution_count": 15,
     "metadata": {},
     "output_type": "execute_result"
    }
   ],
   "source": [
    "data.head()"
   ]
  },
  {
   "cell_type": "code",
   "execution_count": 18,
   "metadata": {},
   "outputs": [
    {
     "data": {
      "text/html": [
       "<div>\n",
       "<style scoped>\n",
       "    .dataframe tbody tr th:only-of-type {\n",
       "        vertical-align: middle;\n",
       "    }\n",
       "\n",
       "    .dataframe tbody tr th {\n",
       "        vertical-align: top;\n",
       "    }\n",
       "\n",
       "    .dataframe thead th {\n",
       "        text-align: right;\n",
       "    }\n",
       "</style>\n",
       "<table border=\"1\" class=\"dataframe\">\n",
       "  <thead>\n",
       "    <tr style=\"text-align: right;\">\n",
       "      <th></th>\n",
       "      <th>AF3</th>\n",
       "      <th>F7</th>\n",
       "      <th>F3</th>\n",
       "      <th>FC5</th>\n",
       "      <th>T7</th>\n",
       "      <th>P7</th>\n",
       "      <th>O1</th>\n",
       "      <th>O2</th>\n",
       "      <th>P8</th>\n",
       "      <th>T8</th>\n",
       "      <th>FC6</th>\n",
       "      <th>F4</th>\n",
       "      <th>F8</th>\n",
       "      <th>AF4</th>\n",
       "      <th>eyeDetection</th>\n",
       "    </tr>\n",
       "  </thead>\n",
       "  <tbody>\n",
       "    <tr>\n",
       "      <td>14975</td>\n",
       "      <td>4281.03</td>\n",
       "      <td>3990.26</td>\n",
       "      <td>4245.64</td>\n",
       "      <td>4116.92</td>\n",
       "      <td>4333.85</td>\n",
       "      <td>4614.36</td>\n",
       "      <td>4074.87</td>\n",
       "      <td>4625.64</td>\n",
       "      <td>4203.08</td>\n",
       "      <td>4221.54</td>\n",
       "      <td>4171.28</td>\n",
       "      <td>4269.23</td>\n",
       "      <td>4593.33</td>\n",
       "      <td>4340.51</td>\n",
       "      <td>b'1'</td>\n",
       "    </tr>\n",
       "    <tr>\n",
       "      <td>14976</td>\n",
       "      <td>4276.92</td>\n",
       "      <td>3991.79</td>\n",
       "      <td>4245.13</td>\n",
       "      <td>4110.77</td>\n",
       "      <td>4332.82</td>\n",
       "      <td>4615.38</td>\n",
       "      <td>4073.33</td>\n",
       "      <td>4621.54</td>\n",
       "      <td>4194.36</td>\n",
       "      <td>4217.44</td>\n",
       "      <td>4162.56</td>\n",
       "      <td>4259.49</td>\n",
       "      <td>4590.26</td>\n",
       "      <td>4333.33</td>\n",
       "      <td>b'1'</td>\n",
       "    </tr>\n",
       "    <tr>\n",
       "      <td>14977</td>\n",
       "      <td>4277.44</td>\n",
       "      <td>3990.77</td>\n",
       "      <td>4246.67</td>\n",
       "      <td>4113.85</td>\n",
       "      <td>4333.33</td>\n",
       "      <td>4615.38</td>\n",
       "      <td>4072.82</td>\n",
       "      <td>4623.59</td>\n",
       "      <td>4193.33</td>\n",
       "      <td>4212.82</td>\n",
       "      <td>4160.51</td>\n",
       "      <td>4257.95</td>\n",
       "      <td>4591.79</td>\n",
       "      <td>4339.49</td>\n",
       "      <td>b'1'</td>\n",
       "    </tr>\n",
       "    <tr>\n",
       "      <td>14978</td>\n",
       "      <td>4284.62</td>\n",
       "      <td>3991.79</td>\n",
       "      <td>4251.28</td>\n",
       "      <td>4122.05</td>\n",
       "      <td>4334.36</td>\n",
       "      <td>4616.41</td>\n",
       "      <td>4080.51</td>\n",
       "      <td>4628.72</td>\n",
       "      <td>4200.00</td>\n",
       "      <td>4220.00</td>\n",
       "      <td>4165.64</td>\n",
       "      <td>4267.18</td>\n",
       "      <td>4596.41</td>\n",
       "      <td>4350.77</td>\n",
       "      <td>b'1'</td>\n",
       "    </tr>\n",
       "    <tr>\n",
       "      <td>14979</td>\n",
       "      <td>4287.69</td>\n",
       "      <td>3997.44</td>\n",
       "      <td>4260.00</td>\n",
       "      <td>4121.03</td>\n",
       "      <td>4333.33</td>\n",
       "      <td>4616.41</td>\n",
       "      <td>4088.72</td>\n",
       "      <td>4638.46</td>\n",
       "      <td>4212.31</td>\n",
       "      <td>4226.67</td>\n",
       "      <td>4167.69</td>\n",
       "      <td>4274.36</td>\n",
       "      <td>4597.95</td>\n",
       "      <td>4350.77</td>\n",
       "      <td>b'1'</td>\n",
       "    </tr>\n",
       "  </tbody>\n",
       "</table>\n",
       "</div>"
      ],
      "text/plain": [
       "           AF3       F7       F3      FC5       T7       P7       O1       O2  \\\n",
       "14975  4281.03  3990.26  4245.64  4116.92  4333.85  4614.36  4074.87  4625.64   \n",
       "14976  4276.92  3991.79  4245.13  4110.77  4332.82  4615.38  4073.33  4621.54   \n",
       "14977  4277.44  3990.77  4246.67  4113.85  4333.33  4615.38  4072.82  4623.59   \n",
       "14978  4284.62  3991.79  4251.28  4122.05  4334.36  4616.41  4080.51  4628.72   \n",
       "14979  4287.69  3997.44  4260.00  4121.03  4333.33  4616.41  4088.72  4638.46   \n",
       "\n",
       "            P8       T8      FC6       F4       F8      AF4 eyeDetection  \n",
       "14975  4203.08  4221.54  4171.28  4269.23  4593.33  4340.51         b'1'  \n",
       "14976  4194.36  4217.44  4162.56  4259.49  4590.26  4333.33         b'1'  \n",
       "14977  4193.33  4212.82  4160.51  4257.95  4591.79  4339.49         b'1'  \n",
       "14978  4200.00  4220.00  4165.64  4267.18  4596.41  4350.77         b'1'  \n",
       "14979  4212.31  4226.67  4167.69  4274.36  4597.95  4350.77         b'1'  "
      ]
     },
     "execution_count": 18,
     "metadata": {},
     "output_type": "execute_result"
    }
   ],
   "source": [
    "data.tail()"
   ]
  },
  {
   "cell_type": "code",
   "execution_count": 20,
   "metadata": {},
   "outputs": [
    {
     "name": "stdout",
     "output_type": "stream",
     "text": [
      "(14980, 15)\n",
      "Index(['AF3', 'F7', 'F3', 'FC5', 'T7', 'P7', 'O1', 'O2', 'P8', 'T8', 'FC6',\n",
      "       'F4', 'F8', 'AF4', 'eyeDetection'],\n",
      "      dtype='object')\n"
     ]
    }
   ],
   "source": [
    "print(data.shape)\n",
    "print(data.columns)"
   ]
  },
  {
   "cell_type": "code",
   "execution_count": 22,
   "metadata": {},
   "outputs": [
    {
     "data": {
      "text/plain": [
       "RangeIndex(start=0, stop=14980, step=1)"
      ]
     },
     "execution_count": 22,
     "metadata": {},
     "output_type": "execute_result"
    }
   ],
   "source": [
    "data.index"
   ]
  },
  {
   "cell_type": "code",
   "execution_count": 24,
   "metadata": {},
   "outputs": [
    {
     "data": {
      "text/plain": [
       "0        4641.03\n",
       "1        4638.97\n",
       "2        4630.26\n",
       "3        4630.77\n",
       "4        4627.69\n",
       "          ...   \n",
       "14975    4625.64\n",
       "14976    4621.54\n",
       "14977    4623.59\n",
       "14978    4628.72\n",
       "14979    4638.46\n",
       "Name: O2, Length: 14980, dtype: float64"
      ]
     },
     "execution_count": 24,
     "metadata": {},
     "output_type": "execute_result"
    }
   ],
   "source": [
    "data['O2']"
   ]
  },
  {
   "cell_type": "code",
   "execution_count": 26,
   "metadata": {},
   "outputs": [
    {
     "data": {
      "text/plain": [
       "pandas.core.series.Series"
      ]
     },
     "execution_count": 26,
     "metadata": {},
     "output_type": "execute_result"
    }
   ],
   "source": [
    "type(data['F3'])"
   ]
  },
  {
   "cell_type": "code",
   "execution_count": 28,
   "metadata": {},
   "outputs": [
    {
     "data": {
      "text/html": [
       "<div>\n",
       "<style scoped>\n",
       "    .dataframe tbody tr th:only-of-type {\n",
       "        vertical-align: middle;\n",
       "    }\n",
       "\n",
       "    .dataframe tbody tr th {\n",
       "        vertical-align: top;\n",
       "    }\n",
       "\n",
       "    .dataframe thead th {\n",
       "        text-align: right;\n",
       "    }\n",
       "</style>\n",
       "<table border=\"1\" class=\"dataframe\">\n",
       "  <thead>\n",
       "    <tr style=\"text-align: right;\">\n",
       "      <th></th>\n",
       "      <th>AF3</th>\n",
       "      <th>F7</th>\n",
       "      <th>F3</th>\n",
       "      <th>FC5</th>\n",
       "      <th>T7</th>\n",
       "      <th>P7</th>\n",
       "      <th>O1</th>\n",
       "      <th>O2</th>\n",
       "      <th>P8</th>\n",
       "      <th>T8</th>\n",
       "      <th>FC6</th>\n",
       "      <th>F4</th>\n",
       "      <th>F8</th>\n",
       "      <th>AF4</th>\n",
       "    </tr>\n",
       "  </thead>\n",
       "  <tbody>\n",
       "    <tr>\n",
       "      <td>count</td>\n",
       "      <td>14980.000000</td>\n",
       "      <td>14980.000000</td>\n",
       "      <td>14980.000000</td>\n",
       "      <td>14980.000000</td>\n",
       "      <td>14980.000000</td>\n",
       "      <td>14980.000000</td>\n",
       "      <td>14980.000000</td>\n",
       "      <td>14980.000000</td>\n",
       "      <td>14980.000000</td>\n",
       "      <td>14980.000000</td>\n",
       "      <td>14980.000000</td>\n",
       "      <td>14980.000000</td>\n",
       "      <td>14980.000000</td>\n",
       "      <td>14980.000000</td>\n",
       "    </tr>\n",
       "    <tr>\n",
       "      <td>mean</td>\n",
       "      <td>4321.917777</td>\n",
       "      <td>4009.767694</td>\n",
       "      <td>4264.022433</td>\n",
       "      <td>4164.946326</td>\n",
       "      <td>4341.741075</td>\n",
       "      <td>4644.022379</td>\n",
       "      <td>4110.400160</td>\n",
       "      <td>4616.056904</td>\n",
       "      <td>4218.826610</td>\n",
       "      <td>4231.316200</td>\n",
       "      <td>4202.456900</td>\n",
       "      <td>4279.232774</td>\n",
       "      <td>4615.205336</td>\n",
       "      <td>4416.435832</td>\n",
       "    </tr>\n",
       "    <tr>\n",
       "      <td>std</td>\n",
       "      <td>2492.072174</td>\n",
       "      <td>45.941672</td>\n",
       "      <td>44.428052</td>\n",
       "      <td>5216.404632</td>\n",
       "      <td>34.738821</td>\n",
       "      <td>2924.789537</td>\n",
       "      <td>4600.926543</td>\n",
       "      <td>29.292603</td>\n",
       "      <td>2136.408523</td>\n",
       "      <td>38.050903</td>\n",
       "      <td>37.785981</td>\n",
       "      <td>41.544312</td>\n",
       "      <td>1208.369958</td>\n",
       "      <td>5891.285043</td>\n",
       "    </tr>\n",
       "    <tr>\n",
       "      <td>min</td>\n",
       "      <td>1030.770000</td>\n",
       "      <td>2830.770000</td>\n",
       "      <td>1040.000000</td>\n",
       "      <td>2453.330000</td>\n",
       "      <td>2089.740000</td>\n",
       "      <td>2768.210000</td>\n",
       "      <td>2086.150000</td>\n",
       "      <td>4567.180000</td>\n",
       "      <td>1357.950000</td>\n",
       "      <td>1816.410000</td>\n",
       "      <td>3273.330000</td>\n",
       "      <td>2257.950000</td>\n",
       "      <td>86.666700</td>\n",
       "      <td>1366.150000</td>\n",
       "    </tr>\n",
       "    <tr>\n",
       "      <td>25%</td>\n",
       "      <td>4280.510000</td>\n",
       "      <td>3990.770000</td>\n",
       "      <td>4250.260000</td>\n",
       "      <td>4108.210000</td>\n",
       "      <td>4331.790000</td>\n",
       "      <td>4611.790000</td>\n",
       "      <td>4057.950000</td>\n",
       "      <td>4604.620000</td>\n",
       "      <td>4190.770000</td>\n",
       "      <td>4220.510000</td>\n",
       "      <td>4190.260000</td>\n",
       "      <td>4267.690000</td>\n",
       "      <td>4590.770000</td>\n",
       "      <td>4342.050000</td>\n",
       "    </tr>\n",
       "    <tr>\n",
       "      <td>50%</td>\n",
       "      <td>4294.360000</td>\n",
       "      <td>4005.640000</td>\n",
       "      <td>4262.560000</td>\n",
       "      <td>4120.510000</td>\n",
       "      <td>4338.970000</td>\n",
       "      <td>4617.950000</td>\n",
       "      <td>4070.260000</td>\n",
       "      <td>4613.330000</td>\n",
       "      <td>4199.490000</td>\n",
       "      <td>4229.230000</td>\n",
       "      <td>4200.510000</td>\n",
       "      <td>4276.920000</td>\n",
       "      <td>4603.080000</td>\n",
       "      <td>4354.870000</td>\n",
       "    </tr>\n",
       "    <tr>\n",
       "      <td>75%</td>\n",
       "      <td>4311.790000</td>\n",
       "      <td>4023.080000</td>\n",
       "      <td>4270.770000</td>\n",
       "      <td>4132.310000</td>\n",
       "      <td>4347.180000</td>\n",
       "      <td>4626.670000</td>\n",
       "      <td>4083.590000</td>\n",
       "      <td>4624.100000</td>\n",
       "      <td>4209.230000</td>\n",
       "      <td>4239.490000</td>\n",
       "      <td>4211.280000</td>\n",
       "      <td>4287.180000</td>\n",
       "      <td>4617.440000</td>\n",
       "      <td>4372.820000</td>\n",
       "    </tr>\n",
       "    <tr>\n",
       "      <td>max</td>\n",
       "      <td>309231.000000</td>\n",
       "      <td>7804.620000</td>\n",
       "      <td>6880.510000</td>\n",
       "      <td>642564.000000</td>\n",
       "      <td>6474.360000</td>\n",
       "      <td>362564.000000</td>\n",
       "      <td>567179.000000</td>\n",
       "      <td>7264.100000</td>\n",
       "      <td>265641.000000</td>\n",
       "      <td>6674.360000</td>\n",
       "      <td>6823.080000</td>\n",
       "      <td>7002.560000</td>\n",
       "      <td>152308.000000</td>\n",
       "      <td>715897.000000</td>\n",
       "    </tr>\n",
       "  </tbody>\n",
       "</table>\n",
       "</div>"
      ],
      "text/plain": [
       "                 AF3            F7            F3            FC5            T7  \\\n",
       "count   14980.000000  14980.000000  14980.000000   14980.000000  14980.000000   \n",
       "mean     4321.917777   4009.767694   4264.022433    4164.946326   4341.741075   \n",
       "std      2492.072174     45.941672     44.428052    5216.404632     34.738821   \n",
       "min      1030.770000   2830.770000   1040.000000    2453.330000   2089.740000   \n",
       "25%      4280.510000   3990.770000   4250.260000    4108.210000   4331.790000   \n",
       "50%      4294.360000   4005.640000   4262.560000    4120.510000   4338.970000   \n",
       "75%      4311.790000   4023.080000   4270.770000    4132.310000   4347.180000   \n",
       "max    309231.000000   7804.620000   6880.510000  642564.000000   6474.360000   \n",
       "\n",
       "                  P7             O1            O2             P8  \\\n",
       "count   14980.000000   14980.000000  14980.000000   14980.000000   \n",
       "mean     4644.022379    4110.400160   4616.056904    4218.826610   \n",
       "std      2924.789537    4600.926543     29.292603    2136.408523   \n",
       "min      2768.210000    2086.150000   4567.180000    1357.950000   \n",
       "25%      4611.790000    4057.950000   4604.620000    4190.770000   \n",
       "50%      4617.950000    4070.260000   4613.330000    4199.490000   \n",
       "75%      4626.670000    4083.590000   4624.100000    4209.230000   \n",
       "max    362564.000000  567179.000000   7264.100000  265641.000000   \n",
       "\n",
       "                 T8           FC6            F4             F8            AF4  \n",
       "count  14980.000000  14980.000000  14980.000000   14980.000000   14980.000000  \n",
       "mean    4231.316200   4202.456900   4279.232774    4615.205336    4416.435832  \n",
       "std       38.050903     37.785981     41.544312    1208.369958    5891.285043  \n",
       "min     1816.410000   3273.330000   2257.950000      86.666700    1366.150000  \n",
       "25%     4220.510000   4190.260000   4267.690000    4590.770000    4342.050000  \n",
       "50%     4229.230000   4200.510000   4276.920000    4603.080000    4354.870000  \n",
       "75%     4239.490000   4211.280000   4287.180000    4617.440000    4372.820000  \n",
       "max     6674.360000   6823.080000   7002.560000  152308.000000  715897.000000  "
      ]
     },
     "execution_count": 28,
     "metadata": {},
     "output_type": "execute_result"
    }
   ],
   "source": [
    "data.describe()"
   ]
  },
  {
   "cell_type": "code",
   "execution_count": 34,
   "metadata": {},
   "outputs": [
    {
     "data": {
      "image/png": "[encoded data removed]",
      "text/plain": [
       "<Figure size 720x720 with 196 Axes>"
      ]
     },
     "metadata": {
      "needs_background": "light"
     },
     "output_type": "display_data"
    }
   ],
   "source": [
    "from pandas.plotting import scatter_matrix\n",
    "scatter_matrix(data, alpha = .01, figsize = (10, 10))\n",
    "pass"
   ]
  },
  {
   "cell_type": "code",
   "execution_count": 35,
   "metadata": {},
   "outputs": [
    {
     "data": {
      "text/html": [
       "<div>\n",
       "<style scoped>\n",
       "    .dataframe tbody tr th:only-of-type {\n",
       "        vertical-align: middle;\n",
       "    }\n",
       "\n",
       "    .dataframe tbody tr th {\n",
       "        vertical-align: top;\n",
       "    }\n",
       "\n",
       "    .dataframe thead th {\n",
       "        text-align: right;\n",
       "    }\n",
       "</style>\n",
       "<table border=\"1\" class=\"dataframe\">\n",
       "  <thead>\n",
       "    <tr style=\"text-align: right;\">\n",
       "      <th></th>\n",
       "      <th>AF3</th>\n",
       "      <th>F7</th>\n",
       "      <th>F3</th>\n",
       "      <th>FC5</th>\n",
       "      <th>T7</th>\n",
       "      <th>P7</th>\n",
       "      <th>O1</th>\n",
       "      <th>O2</th>\n",
       "      <th>P8</th>\n",
       "      <th>T8</th>\n",
       "      <th>FC6</th>\n",
       "      <th>F4</th>\n",
       "      <th>F8</th>\n",
       "      <th>AF4</th>\n",
       "    </tr>\n",
       "  </thead>\n",
       "  <tbody>\n",
       "    <tr>\n",
       "      <td>AF3</td>\n",
       "      <td>1.000000</td>\n",
       "      <td>0.261146</td>\n",
       "      <td>0.474569</td>\n",
       "      <td>0.012173</td>\n",
       "      <td>0.278938</td>\n",
       "      <td>0.007958</td>\n",
       "      <td>0.006630</td>\n",
       "      <td>0.040539</td>\n",
       "      <td>0.999607</td>\n",
       "      <td>-0.070801</td>\n",
       "      <td>0.572997</td>\n",
       "      <td>-0.394334</td>\n",
       "      <td>0.998714</td>\n",
       "      <td>0.012070</td>\n",
       "    </tr>\n",
       "    <tr>\n",
       "      <td>F7</td>\n",
       "      <td>0.261146</td>\n",
       "      <td>1.000000</td>\n",
       "      <td>0.583317</td>\n",
       "      <td>-0.208922</td>\n",
       "      <td>-0.250816</td>\n",
       "      <td>-0.042288</td>\n",
       "      <td>-0.210591</td>\n",
       "      <td>0.517816</td>\n",
       "      <td>0.264922</td>\n",
       "      <td>0.489010</td>\n",
       "      <td>0.317418</td>\n",
       "      <td>0.275977</td>\n",
       "      <td>0.251327</td>\n",
       "      <td>-0.071895</td>\n",
       "    </tr>\n",
       "    <tr>\n",
       "      <td>F3</td>\n",
       "      <td>0.474569</td>\n",
       "      <td>0.583317</td>\n",
       "      <td>1.000000</td>\n",
       "      <td>-0.330162</td>\n",
       "      <td>-0.272186</td>\n",
       "      <td>-0.596566</td>\n",
       "      <td>-0.335514</td>\n",
       "      <td>0.221270</td>\n",
       "      <td>0.486506</td>\n",
       "      <td>0.191273</td>\n",
       "      <td>0.517950</td>\n",
       "      <td>0.116761</td>\n",
       "      <td>0.500276</td>\n",
       "      <td>-0.637363</td>\n",
       "    </tr>\n",
       "    <tr>\n",
       "      <td>FC5</td>\n",
       "      <td>0.012173</td>\n",
       "      <td>-0.208922</td>\n",
       "      <td>-0.330162</td>\n",
       "      <td>1.000000</td>\n",
       "      <td>0.504616</td>\n",
       "      <td>0.009049</td>\n",
       "      <td>0.999961</td>\n",
       "      <td>0.130482</td>\n",
       "      <td>0.013228</td>\n",
       "      <td>-0.519498</td>\n",
       "      <td>0.420311</td>\n",
       "      <td>0.515388</td>\n",
       "      <td>-0.005351</td>\n",
       "      <td>0.161155</td>\n",
       "    </tr>\n",
       "    <tr>\n",
       "      <td>T7</td>\n",
       "      <td>0.278938</td>\n",
       "      <td>-0.250816</td>\n",
       "      <td>-0.272186</td>\n",
       "      <td>0.504616</td>\n",
       "      <td>1.000000</td>\n",
       "      <td>0.409277</td>\n",
       "      <td>0.504231</td>\n",
       "      <td>-0.030063</td>\n",
       "      <td>0.264913</td>\n",
       "      <td>-0.225508</td>\n",
       "      <td>0.336173</td>\n",
       "      <td>-0.095902</td>\n",
       "      <td>0.267107</td>\n",
       "      <td>0.478852</td>\n",
       "    </tr>\n",
       "    <tr>\n",
       "      <td>P7</td>\n",
       "      <td>0.007958</td>\n",
       "      <td>-0.042288</td>\n",
       "      <td>-0.596566</td>\n",
       "      <td>0.009049</td>\n",
       "      <td>0.409277</td>\n",
       "      <td>1.000000</td>\n",
       "      <td>0.013707</td>\n",
       "      <td>0.208167</td>\n",
       "      <td>-0.012528</td>\n",
       "      <td>0.420539</td>\n",
       "      <td>-0.196873</td>\n",
       "      <td>-0.229149</td>\n",
       "      <td>-0.030921</td>\n",
       "      <td>0.988310</td>\n",
       "    </tr>\n",
       "    <tr>\n",
       "      <td>O1</td>\n",
       "      <td>0.006630</td>\n",
       "      <td>-0.210591</td>\n",
       "      <td>-0.335514</td>\n",
       "      <td>0.999961</td>\n",
       "      <td>0.504231</td>\n",
       "      <td>0.013707</td>\n",
       "      <td>1.000000</td>\n",
       "      <td>0.133434</td>\n",
       "      <td>0.007638</td>\n",
       "      <td>-0.515699</td>\n",
       "      <td>0.417041</td>\n",
       "      <td>0.517621</td>\n",
       "      <td>-0.011080</td>\n",
       "      <td>0.165730</td>\n",
       "    </tr>\n",
       "    <tr>\n",
       "      <td>O2</td>\n",
       "      <td>0.040539</td>\n",
       "      <td>0.517816</td>\n",
       "      <td>0.221270</td>\n",
       "      <td>0.130482</td>\n",
       "      <td>-0.030063</td>\n",
       "      <td>0.208167</td>\n",
       "      <td>0.133434</td>\n",
       "      <td>1.000000</td>\n",
       "      <td>0.047843</td>\n",
       "      <td>0.640387</td>\n",
       "      <td>0.433333</td>\n",
       "      <td>0.577013</td>\n",
       "      <td>0.020493</td>\n",
       "      <td>0.224627</td>\n",
       "    </tr>\n",
       "    <tr>\n",
       "      <td>P8</td>\n",
       "      <td>0.999607</td>\n",
       "      <td>0.264922</td>\n",
       "      <td>0.486506</td>\n",
       "      <td>0.013228</td>\n",
       "      <td>0.264913</td>\n",
       "      <td>-0.012528</td>\n",
       "      <td>0.007638</td>\n",
       "      <td>0.047843</td>\n",
       "      <td>1.000000</td>\n",
       "      <td>-0.074047</td>\n",
       "      <td>0.577472</td>\n",
       "      <td>-0.385643</td>\n",
       "      <td>0.998849</td>\n",
       "      <td>-0.008055</td>\n",
       "    </tr>\n",
       "    <tr>\n",
       "      <td>T8</td>\n",
       "      <td>-0.070801</td>\n",
       "      <td>0.489010</td>\n",
       "      <td>0.191273</td>\n",
       "      <td>-0.519498</td>\n",
       "      <td>-0.225508</td>\n",
       "      <td>0.420539</td>\n",
       "      <td>-0.515699</td>\n",
       "      <td>0.640387</td>\n",
       "      <td>-0.074047</td>\n",
       "      <td>1.000000</td>\n",
       "      <td>0.038252</td>\n",
       "      <td>0.132692</td>\n",
       "      <td>-0.082256</td>\n",
       "      <td>0.336282</td>\n",
       "    </tr>\n",
       "    <tr>\n",
       "      <td>FC6</td>\n",
       "      <td>0.572997</td>\n",
       "      <td>0.317418</td>\n",
       "      <td>0.517950</td>\n",
       "      <td>0.420311</td>\n",
       "      <td>0.336173</td>\n",
       "      <td>-0.196873</td>\n",
       "      <td>0.417041</td>\n",
       "      <td>0.433333</td>\n",
       "      <td>0.577472</td>\n",
       "      <td>0.038252</td>\n",
       "      <td>1.000000</td>\n",
       "      <td>0.411682</td>\n",
       "      <td>0.577408</td>\n",
       "      <td>-0.127763</td>\n",
       "    </tr>\n",
       "    <tr>\n",
       "      <td>F4</td>\n",
       "      <td>-0.394334</td>\n",
       "      <td>0.275977</td>\n",
       "      <td>0.116761</td>\n",
       "      <td>0.515388</td>\n",
       "      <td>-0.095902</td>\n",
       "      <td>-0.229149</td>\n",
       "      <td>0.517621</td>\n",
       "      <td>0.577013</td>\n",
       "      <td>-0.385643</td>\n",
       "      <td>0.132692</td>\n",
       "      <td>0.411682</td>\n",
       "      <td>1.000000</td>\n",
       "      <td>-0.399400</td>\n",
       "      <td>-0.146960</td>\n",
       "    </tr>\n",
       "    <tr>\n",
       "      <td>F8</td>\n",
       "      <td>0.998714</td>\n",
       "      <td>0.251327</td>\n",
       "      <td>0.500276</td>\n",
       "      <td>-0.005351</td>\n",
       "      <td>0.267107</td>\n",
       "      <td>-0.030921</td>\n",
       "      <td>-0.011080</td>\n",
       "      <td>0.020493</td>\n",
       "      <td>0.998849</td>\n",
       "      <td>-0.082256</td>\n",
       "      <td>0.577408</td>\n",
       "      <td>-0.399400</td>\n",
       "      <td>1.000000</td>\n",
       "      <td>-0.028968</td>\n",
       "    </tr>\n",
       "    <tr>\n",
       "      <td>AF4</td>\n",
       "      <td>0.012070</td>\n",
       "      <td>-0.071895</td>\n",
       "      <td>-0.637363</td>\n",
       "      <td>0.161155</td>\n",
       "      <td>0.478852</td>\n",
       "      <td>0.988310</td>\n",
       "      <td>0.165730</td>\n",
       "      <td>0.224627</td>\n",
       "      <td>-0.008055</td>\n",
       "      <td>0.336282</td>\n",
       "      <td>-0.127763</td>\n",
       "      <td>-0.146960</td>\n",
       "      <td>-0.028968</td>\n",
       "      <td>1.000000</td>\n",
       "    </tr>\n",
       "  </tbody>\n",
       "</table>\n",
       "</div>"
      ],
      "text/plain": [
       "          AF3        F7        F3       FC5        T7        P7        O1  \\\n",
       "AF3  1.000000  0.261146  0.474569  0.012173  0.278938  0.007958  0.006630   \n",
       "F7   0.261146  1.000000  0.583317 -0.208922 -0.250816 -0.042288 -0.210591   \n",
       "F3   0.474569  0.583317  1.000000 -0.330162 -0.272186 -0.596566 -0.335514   \n",
       "FC5  0.012173 -0.208922 -0.330162  1.000000  0.504616  0.009049  0.999961   \n",
       "T7   0.278938 -0.250816 -0.272186  0.504616  1.000000  0.409277  0.504231   \n",
       "P7   0.007958 -0.042288 -0.596566  0.009049  0.409277  1.000000  0.013707   \n",
       "O1   0.006630 -0.210591 -0.335514  0.999961  0.504231  0.013707  1.000000   \n",
       "O2   0.040539  0.517816  0.221270  0.130482 -0.030063  0.208167  0.133434   \n",
       "P8   0.999607  0.264922  0.486506  0.013228  0.264913 -0.012528  0.007638   \n",
       "T8  -0.070801  0.489010  0.191273 -0.519498 -0.225508  0.420539 -0.515699   \n",
       "FC6  0.572997  0.317418  0.517950  0.420311  0.336173 -0.196873  0.417041   \n",
       "F4  -0.394334  0.275977  0.116761  0.515388 -0.095902 -0.229149  0.517621   \n",
       "F8   0.998714  0.251327  0.500276 -0.005351  0.267107 -0.030921 -0.011080   \n",
       "AF4  0.012070 -0.071895 -0.637363  0.161155  0.478852  0.988310  0.165730   \n",
       "\n",
       "           O2        P8        T8       FC6        F4        F8       AF4  \n",
       "AF3  0.040539  0.999607 -0.070801  0.572997 -0.394334  0.998714  0.012070  \n",
       "F7   0.517816  0.264922  0.489010  0.317418  0.275977  0.251327 -0.071895  \n",
       "F3   0.221270  0.486506  0.191273  0.517950  0.116761  0.500276 -0.637363  \n",
       "FC5  0.130482  0.013228 -0.519498  0.420311  0.515388 -0.005351  0.161155  \n",
       "T7  -0.030063  0.264913 -0.225508  0.336173 -0.095902  0.267107  0.478852  \n",
       "P7   0.208167 -0.012528  0.420539 -0.196873 -0.229149 -0.030921  0.988310  \n",
       "O1   0.133434  0.007638 -0.515699  0.417041  0.517621 -0.011080  0.165730  \n",
       "O2   1.000000  0.047843  0.640387  0.433333  0.577013  0.020493  0.224627  \n",
       "P8   0.047843  1.000000 -0.074047  0.577472 -0.385643  0.998849 -0.008055  \n",
       "T8   0.640387 -0.074047  1.000000  0.038252  0.132692 -0.082256  0.336282  \n",
       "FC6  0.433333  0.577472  0.038252  1.000000  0.411682  0.577408 -0.127763  \n",
       "F4   0.577013 -0.385643  0.132692  0.411682  1.000000 -0.399400 -0.146960  \n",
       "F8   0.020493  0.998849 -0.082256  0.577408 -0.399400  1.000000 -0.028968  \n",
       "AF4  0.224627 -0.008055  0.336282 -0.127763 -0.146960 -0.028968  1.000000  "
      ]
     },
     "execution_count": 35,
     "metadata": {},
     "output_type": "execute_result"
    }
   ],
   "source": [
    "data.corr()"
   ]
  },
  {
   "cell_type": "code",
   "execution_count": 121,
   "metadata": {},
   "outputs": [
    {
     "data": {
      "text/plain": [
       "0         True\n",
       "1         True\n",
       "2         True\n",
       "3         True\n",
       "4         True\n",
       "         ...  \n",
       "14975    False\n",
       "14976    False\n",
       "14977    False\n",
       "14978    False\n",
       "14979    False\n",
       "Name: eyeDetection, Length: 14980, dtype: bool"
      ]
     },
     "execution_count": 121,
     "metadata": {},
     "output_type": "execute_result"
    }
   ],
   "source": [
    "str_o = b'0'\n",
    "str_t = b'1'\n",
    "data['eyeDetection'] == str_o"
   ]
  },
  {
   "cell_type": "code",
   "execution_count": 70,
   "metadata": {},
   "outputs": [
    {
     "data": {
      "text/html": [
       "<div>\n",
       "<style scoped>\n",
       "    .dataframe tbody tr th:only-of-type {\n",
       "        vertical-align: middle;\n",
       "    }\n",
       "\n",
       "    .dataframe tbody tr th {\n",
       "        vertical-align: top;\n",
       "    }\n",
       "\n",
       "    .dataframe thead th {\n",
       "        text-align: right;\n",
       "    }\n",
       "</style>\n",
       "<table border=\"1\" class=\"dataframe\">\n",
       "  <thead>\n",
       "    <tr style=\"text-align: right;\">\n",
       "      <th></th>\n",
       "      <th>AF3</th>\n",
       "      <th>F7</th>\n",
       "      <th>F3</th>\n",
       "      <th>FC5</th>\n",
       "      <th>T7</th>\n",
       "      <th>P7</th>\n",
       "      <th>O1</th>\n",
       "      <th>O2</th>\n",
       "      <th>P8</th>\n",
       "      <th>T8</th>\n",
       "      <th>FC6</th>\n",
       "      <th>F4</th>\n",
       "      <th>F8</th>\n",
       "      <th>AF4</th>\n",
       "      <th>eyeDetection</th>\n",
       "    </tr>\n",
       "  </thead>\n",
       "  <tbody>\n",
       "    <tr>\n",
       "      <td>count</td>\n",
       "      <td>14980.000000</td>\n",
       "      <td>14980.000000</td>\n",
       "      <td>14980.000000</td>\n",
       "      <td>14980.000000</td>\n",
       "      <td>14980.000000</td>\n",
       "      <td>14980.000000</td>\n",
       "      <td>14980.000000</td>\n",
       "      <td>14980.000000</td>\n",
       "      <td>14980.000000</td>\n",
       "      <td>14980.000000</td>\n",
       "      <td>14980.000000</td>\n",
       "      <td>14980.000000</td>\n",
       "      <td>14980.000000</td>\n",
       "      <td>14980.000000</td>\n",
       "      <td>14980</td>\n",
       "    </tr>\n",
       "    <tr>\n",
       "      <td>unique</td>\n",
       "      <td>NaN</td>\n",
       "      <td>NaN</td>\n",
       "      <td>NaN</td>\n",
       "      <td>NaN</td>\n",
       "      <td>NaN</td>\n",
       "      <td>NaN</td>\n",
       "      <td>NaN</td>\n",
       "      <td>NaN</td>\n",
       "      <td>NaN</td>\n",
       "      <td>NaN</td>\n",
       "      <td>NaN</td>\n",
       "      <td>NaN</td>\n",
       "      <td>NaN</td>\n",
       "      <td>NaN</td>\n",
       "      <td>2</td>\n",
       "    </tr>\n",
       "    <tr>\n",
       "      <td>top</td>\n",
       "      <td>NaN</td>\n",
       "      <td>NaN</td>\n",
       "      <td>NaN</td>\n",
       "      <td>NaN</td>\n",
       "      <td>NaN</td>\n",
       "      <td>NaN</td>\n",
       "      <td>NaN</td>\n",
       "      <td>NaN</td>\n",
       "      <td>NaN</td>\n",
       "      <td>NaN</td>\n",
       "      <td>NaN</td>\n",
       "      <td>NaN</td>\n",
       "      <td>NaN</td>\n",
       "      <td>NaN</td>\n",
       "      <td>b'0'</td>\n",
       "    </tr>\n",
       "    <tr>\n",
       "      <td>freq</td>\n",
       "      <td>NaN</td>\n",
       "      <td>NaN</td>\n",
       "      <td>NaN</td>\n",
       "      <td>NaN</td>\n",
       "      <td>NaN</td>\n",
       "      <td>NaN</td>\n",
       "      <td>NaN</td>\n",
       "      <td>NaN</td>\n",
       "      <td>NaN</td>\n",
       "      <td>NaN</td>\n",
       "      <td>NaN</td>\n",
       "      <td>NaN</td>\n",
       "      <td>NaN</td>\n",
       "      <td>NaN</td>\n",
       "      <td>8257</td>\n",
       "    </tr>\n",
       "    <tr>\n",
       "      <td>mean</td>\n",
       "      <td>4321.917777</td>\n",
       "      <td>4009.767694</td>\n",
       "      <td>4264.022433</td>\n",
       "      <td>4164.946326</td>\n",
       "      <td>4341.741075</td>\n",
       "      <td>4644.022379</td>\n",
       "      <td>4110.400160</td>\n",
       "      <td>4616.056904</td>\n",
       "      <td>4218.826610</td>\n",
       "      <td>4231.316200</td>\n",
       "      <td>4202.456900</td>\n",
       "      <td>4279.232774</td>\n",
       "      <td>4615.205336</td>\n",
       "      <td>4416.435832</td>\n",
       "      <td>NaN</td>\n",
       "    </tr>\n",
       "    <tr>\n",
       "      <td>std</td>\n",
       "      <td>2492.072174</td>\n",
       "      <td>45.941672</td>\n",
       "      <td>44.428052</td>\n",
       "      <td>5216.404632</td>\n",
       "      <td>34.738821</td>\n",
       "      <td>2924.789537</td>\n",
       "      <td>4600.926543</td>\n",
       "      <td>29.292603</td>\n",
       "      <td>2136.408523</td>\n",
       "      <td>38.050903</td>\n",
       "      <td>37.785981</td>\n",
       "      <td>41.544312</td>\n",
       "      <td>1208.369958</td>\n",
       "      <td>5891.285043</td>\n",
       "      <td>NaN</td>\n",
       "    </tr>\n",
       "    <tr>\n",
       "      <td>min</td>\n",
       "      <td>1030.770000</td>\n",
       "      <td>2830.770000</td>\n",
       "      <td>1040.000000</td>\n",
       "      <td>2453.330000</td>\n",
       "      <td>2089.740000</td>\n",
       "      <td>2768.210000</td>\n",
       "      <td>2086.150000</td>\n",
       "      <td>4567.180000</td>\n",
       "      <td>1357.950000</td>\n",
       "      <td>1816.410000</td>\n",
       "      <td>3273.330000</td>\n",
       "      <td>2257.950000</td>\n",
       "      <td>86.666700</td>\n",
       "      <td>1366.150000</td>\n",
       "      <td>NaN</td>\n",
       "    </tr>\n",
       "    <tr>\n",
       "      <td>25%</td>\n",
       "      <td>4280.510000</td>\n",
       "      <td>3990.770000</td>\n",
       "      <td>4250.260000</td>\n",
       "      <td>4108.210000</td>\n",
       "      <td>4331.790000</td>\n",
       "      <td>4611.790000</td>\n",
       "      <td>4057.950000</td>\n",
       "      <td>4604.620000</td>\n",
       "      <td>4190.770000</td>\n",
       "      <td>4220.510000</td>\n",
       "      <td>4190.260000</td>\n",
       "      <td>4267.690000</td>\n",
       "      <td>4590.770000</td>\n",
       "      <td>4342.050000</td>\n",
       "      <td>NaN</td>\n",
       "    </tr>\n",
       "    <tr>\n",
       "      <td>50%</td>\n",
       "      <td>4294.360000</td>\n",
       "      <td>4005.640000</td>\n",
       "      <td>4262.560000</td>\n",
       "      <td>4120.510000</td>\n",
       "      <td>4338.970000</td>\n",
       "      <td>4617.950000</td>\n",
       "      <td>4070.260000</td>\n",
       "      <td>4613.330000</td>\n",
       "      <td>4199.490000</td>\n",
       "      <td>4229.230000</td>\n",
       "      <td>4200.510000</td>\n",
       "      <td>4276.920000</td>\n",
       "      <td>4603.080000</td>\n",
       "      <td>4354.870000</td>\n",
       "      <td>NaN</td>\n",
       "    </tr>\n",
       "    <tr>\n",
       "      <td>75%</td>\n",
       "      <td>4311.790000</td>\n",
       "      <td>4023.080000</td>\n",
       "      <td>4270.770000</td>\n",
       "      <td>4132.310000</td>\n",
       "      <td>4347.180000</td>\n",
       "      <td>4626.670000</td>\n",
       "      <td>4083.590000</td>\n",
       "      <td>4624.100000</td>\n",
       "      <td>4209.230000</td>\n",
       "      <td>4239.490000</td>\n",
       "      <td>4211.280000</td>\n",
       "      <td>4287.180000</td>\n",
       "      <td>4617.440000</td>\n",
       "      <td>4372.820000</td>\n",
       "      <td>NaN</td>\n",
       "    </tr>\n",
       "    <tr>\n",
       "      <td>max</td>\n",
       "      <td>309231.000000</td>\n",
       "      <td>7804.620000</td>\n",
       "      <td>6880.510000</td>\n",
       "      <td>642564.000000</td>\n",
       "      <td>6474.360000</td>\n",
       "      <td>362564.000000</td>\n",
       "      <td>567179.000000</td>\n",
       "      <td>7264.100000</td>\n",
       "      <td>265641.000000</td>\n",
       "      <td>6674.360000</td>\n",
       "      <td>6823.080000</td>\n",
       "      <td>7002.560000</td>\n",
       "      <td>152308.000000</td>\n",
       "      <td>715897.000000</td>\n",
       "      <td>NaN</td>\n",
       "    </tr>\n",
       "  </tbody>\n",
       "</table>\n",
       "</div>"
      ],
      "text/plain": [
       "                  AF3            F7            F3            FC5  \\\n",
       "count    14980.000000  14980.000000  14980.000000   14980.000000   \n",
       "unique            NaN           NaN           NaN            NaN   \n",
       "top               NaN           NaN           NaN            NaN   \n",
       "freq              NaN           NaN           NaN            NaN   \n",
       "mean      4321.917777   4009.767694   4264.022433    4164.946326   \n",
       "std       2492.072174     45.941672     44.428052    5216.404632   \n",
       "min       1030.770000   2830.770000   1040.000000    2453.330000   \n",
       "25%       4280.510000   3990.770000   4250.260000    4108.210000   \n",
       "50%       4294.360000   4005.640000   4262.560000    4120.510000   \n",
       "75%       4311.790000   4023.080000   4270.770000    4132.310000   \n",
       "max     309231.000000   7804.620000   6880.510000  642564.000000   \n",
       "\n",
       "                  T7             P7             O1            O2  \\\n",
       "count   14980.000000   14980.000000   14980.000000  14980.000000   \n",
       "unique           NaN            NaN            NaN           NaN   \n",
       "top              NaN            NaN            NaN           NaN   \n",
       "freq             NaN            NaN            NaN           NaN   \n",
       "mean     4341.741075    4644.022379    4110.400160   4616.056904   \n",
       "std        34.738821    2924.789537    4600.926543     29.292603   \n",
       "min      2089.740000    2768.210000    2086.150000   4567.180000   \n",
       "25%      4331.790000    4611.790000    4057.950000   4604.620000   \n",
       "50%      4338.970000    4617.950000    4070.260000   4613.330000   \n",
       "75%      4347.180000    4626.670000    4083.590000   4624.100000   \n",
       "max      6474.360000  362564.000000  567179.000000   7264.100000   \n",
       "\n",
       "                   P8            T8           FC6            F4  \\\n",
       "count    14980.000000  14980.000000  14980.000000  14980.000000   \n",
       "unique            NaN           NaN           NaN           NaN   \n",
       "top               NaN           NaN           NaN           NaN   \n",
       "freq              NaN           NaN           NaN           NaN   \n",
       "mean      4218.826610   4231.316200   4202.456900   4279.232774   \n",
       "std       2136.408523     38.050903     37.785981     41.544312   \n",
       "min       1357.950000   1816.410000   3273.330000   2257.950000   \n",
       "25%       4190.770000   4220.510000   4190.260000   4267.690000   \n",
       "50%       4199.490000   4229.230000   4200.510000   4276.920000   \n",
       "75%       4209.230000   4239.490000   4211.280000   4287.180000   \n",
       "max     265641.000000   6674.360000   6823.080000   7002.560000   \n",
       "\n",
       "                   F8            AF4 eyeDetection  \n",
       "count    14980.000000   14980.000000        14980  \n",
       "unique            NaN            NaN            2  \n",
       "top               NaN            NaN         b'0'  \n",
       "freq              NaN            NaN         8257  \n",
       "mean      4615.205336    4416.435832          NaN  \n",
       "std       1208.369958    5891.285043          NaN  \n",
       "min         86.666700    1366.150000          NaN  \n",
       "25%       4590.770000    4342.050000          NaN  \n",
       "50%       4603.080000    4354.870000          NaN  \n",
       "75%       4617.440000    4372.820000          NaN  \n",
       "max     152308.000000  715897.000000          NaN  "
      ]
     },
     "execution_count": 70,
     "metadata": {},
     "output_type": "execute_result"
    }
   ],
   "source": [
    "data.describe(include = 'all')"
   ]
  },
  {
   "cell_type": "code",
   "execution_count": 71,
   "metadata": {},
   "outputs": [
    {
     "data": {
      "text/html": [
       "<div>\n",
       "<style scoped>\n",
       "    .dataframe tbody tr th:only-of-type {\n",
       "        vertical-align: middle;\n",
       "    }\n",
       "\n",
       "    .dataframe tbody tr th {\n",
       "        vertical-align: top;\n",
       "    }\n",
       "\n",
       "    .dataframe thead th {\n",
       "        text-align: right;\n",
       "    }\n",
       "</style>\n",
       "<table border=\"1\" class=\"dataframe\">\n",
       "  <thead>\n",
       "    <tr style=\"text-align: right;\">\n",
       "      <th></th>\n",
       "      <th>eyeDetection</th>\n",
       "    </tr>\n",
       "  </thead>\n",
       "  <tbody>\n",
       "    <tr>\n",
       "      <td>count</td>\n",
       "      <td>14980</td>\n",
       "    </tr>\n",
       "    <tr>\n",
       "      <td>unique</td>\n",
       "      <td>2</td>\n",
       "    </tr>\n",
       "    <tr>\n",
       "      <td>top</td>\n",
       "      <td>b'0'</td>\n",
       "    </tr>\n",
       "    <tr>\n",
       "      <td>freq</td>\n",
       "      <td>8257</td>\n",
       "    </tr>\n",
       "  </tbody>\n",
       "</table>\n",
       "</div>"
      ],
      "text/plain": [
       "       eyeDetection\n",
       "count         14980\n",
       "unique            2\n",
       "top            b'0'\n",
       "freq           8257"
      ]
     },
     "execution_count": 71,
     "metadata": {},
     "output_type": "execute_result"
    }
   ],
   "source": [
    "data.describe(include = ['object'])"
   ]
  },
  {
   "cell_type": "code",
   "execution_count": 105,
   "metadata": {},
   "outputs": [
    {
     "data": {
      "text/plain": [
       "array([b'0', b'1'], dtype=object)"
      ]
     },
     "execution_count": 105,
     "metadata": {},
     "output_type": "execute_result"
    }
   ],
   "source": [
    "#Готовим данные\n",
    "data['eyeDetection'].unique()"
   ]
  },
  {
   "cell_type": "code",
   "execution_count": 95,
   "metadata": {},
   "outputs": [
    {
     "name": "stdout",
     "output_type": "stream",
     "text": [
      "['eyeDetection']\n",
      "['AF3', 'F7', 'F3', 'FC5', 'T7', 'P7', 'O1', 'O2', 'P8', 'T8', 'FC6', 'F4', 'F8', 'AF4']\n"
     ]
    }
   ],
   "source": [
    "categorical_columns = [c for c in data.columns if data[c].dtype.name == 'object']\n",
    "numerical_columns   = [c for c in data.columns if data[c].dtype.name != 'object']\n",
    "print(categorical_columns)\n",
    "print(numerical_columns)"
   ]
  },
  {
   "cell_type": "code",
   "execution_count": 98,
   "metadata": {},
   "outputs": [
    {
     "name": "stdout",
     "output_type": "stream",
     "text": [
      "eyeDetection [b'0' b'1']\n"
     ]
    }
   ],
   "source": [
    "for c in categorical_columns:\n",
    "    print(c, data[c].unique())"
   ]
  },
  {
   "cell_type": "code",
   "execution_count": 106,
   "metadata": {},
   "outputs": [
    {
     "data": {
      "text/plain": [
       "AF3             4294.36\n",
       "F7              4005.64\n",
       "F3              4262.56\n",
       "FC5             4120.51\n",
       "T7              4338.97\n",
       "P7              4617.95\n",
       "O1              4070.26\n",
       "O2              4613.33\n",
       "P8              4199.49\n",
       "T8              4229.23\n",
       "FC6             4200.51\n",
       "F4              4276.92\n",
       "F8              4603.08\n",
       "AF4             4354.87\n",
       "eyeDetection       0.00\n",
       "dtype: float64"
      ]
     },
     "execution_count": 106,
     "metadata": {},
     "output_type": "execute_result"
    }
   ],
   "source": [
    "#Обрабатываем пропущенные значения\n",
    "data.median(axis = 0)"
   ]
  },
  {
   "cell_type": "code",
   "execution_count": 109,
   "metadata": {},
   "outputs": [],
   "source": [
    "data = data.fillna(data.median(axis = 0), axis = 0)"
   ]
  },
  {
   "cell_type": "code",
   "execution_count": 111,
   "metadata": {},
   "outputs": [
    {
     "data": {
      "text/plain": [
       "AF3    14980\n",
       "F7     14980\n",
       "F3     14980\n",
       "FC5    14980\n",
       "T7     14980\n",
       "P7     14980\n",
       "O1     14980\n",
       "O2     14980\n",
       "P8     14980\n",
       "T8     14980\n",
       "FC6    14980\n",
       "F4     14980\n",
       "F8     14980\n",
       "AF4    14980\n",
       "dtype: int64"
      ]
     },
     "execution_count": 111,
     "metadata": {},
     "output_type": "execute_result"
    }
   ],
   "source": [
    "data[numerical_columns].count(axis = 0)"
   ]
  },
  {
   "cell_type": "code",
   "execution_count": 113,
   "metadata": {},
   "outputs": [
    {
     "data": {
      "text/plain": [
       "eyeDetection    14980\n",
       "dtype: int64"
      ]
     },
     "execution_count": 113,
     "metadata": {},
     "output_type": "execute_result"
    }
   ],
   "source": [
    "data[categorical_columns].count(axis = 0)"
   ]
  },
  {
   "cell_type": "code",
   "execution_count": 115,
   "metadata": {},
   "outputs": [
    {
     "data": {
      "text/plain": [
       "count     14980\n",
       "unique        2\n",
       "top        b'0'\n",
       "freq       8257\n",
       "Name: eyeDetection, dtype: object"
      ]
     },
     "execution_count": 115,
     "metadata": {},
     "output_type": "execute_result"
    }
   ],
   "source": [
    "data['eyeDetection'].describe()"
   ]
  },
  {
   "cell_type": "code",
   "execution_count": 117,
   "metadata": {},
   "outputs": [
    {
     "data": {
      "text/plain": [
       "pandas.core.series.Series"
      ]
     },
     "execution_count": 117,
     "metadata": {},
     "output_type": "execute_result"
    }
   ],
   "source": [
    "type(data['eyeDetection'].describe())"
   ]
  },
  {
   "cell_type": "code",
   "execution_count": 119,
   "metadata": {},
   "outputs": [
    {
     "data": {
      "text/plain": [
       "b'0'"
      ]
     },
     "execution_count": 119,
     "metadata": {},
     "output_type": "execute_result"
    }
   ],
   "source": [
    "data['eyeDetection'].describe().top"
   ]
  },
  {
   "cell_type": "code",
   "execution_count": 124,
   "metadata": {},
   "outputs": [],
   "source": [
    "data['eyeDetection'] = data['eyeDetection'].fillna(str_o)"
   ]
  },
  {
   "cell_type": "code",
   "execution_count": 127,
   "metadata": {},
   "outputs": [
    {
     "data": {
      "text/html": [
       "<div>\n",
       "<style scoped>\n",
       "    .dataframe tbody tr th:only-of-type {\n",
       "        vertical-align: middle;\n",
       "    }\n",
       "\n",
       "    .dataframe tbody tr th {\n",
       "        vertical-align: top;\n",
       "    }\n",
       "\n",
       "    .dataframe thead th {\n",
       "        text-align: right;\n",
       "    }\n",
       "</style>\n",
       "<table border=\"1\" class=\"dataframe\">\n",
       "  <thead>\n",
       "    <tr style=\"text-align: right;\">\n",
       "      <th></th>\n",
       "      <th>eyeDetection</th>\n",
       "    </tr>\n",
       "  </thead>\n",
       "  <tbody>\n",
       "    <tr>\n",
       "      <td>count</td>\n",
       "      <td>14980</td>\n",
       "    </tr>\n",
       "    <tr>\n",
       "      <td>unique</td>\n",
       "      <td>2</td>\n",
       "    </tr>\n",
       "    <tr>\n",
       "      <td>top</td>\n",
       "      <td>b'0'</td>\n",
       "    </tr>\n",
       "    <tr>\n",
       "      <td>freq</td>\n",
       "      <td>8257</td>\n",
       "    </tr>\n",
       "  </tbody>\n",
       "</table>\n",
       "</div>"
      ],
      "text/plain": [
       "       eyeDetection\n",
       "count         14980\n",
       "unique            2\n",
       "top            b'0'\n",
       "freq           8257"
      ]
     },
     "execution_count": 127,
     "metadata": {},
     "output_type": "execute_result"
    }
   ],
   "source": [
    "data.describe(include = [object])"
   ]
  },
  {
   "cell_type": "code",
   "execution_count": 129,
   "metadata": {},
   "outputs": [],
   "source": [
    "data_describe = data.describe(include = [object])\n",
    "for c in categorical_columns:\n",
    "    data[c] = data[c].fillna(data_describe[c]['top'])"
   ]
  },
  {
   "cell_type": "code",
   "execution_count": 131,
   "metadata": {},
   "outputs": [
    {
     "data": {
      "text/html": [
       "<div>\n",
       "<style scoped>\n",
       "    .dataframe tbody tr th:only-of-type {\n",
       "        vertical-align: middle;\n",
       "    }\n",
       "\n",
       "    .dataframe tbody tr th {\n",
       "        vertical-align: top;\n",
       "    }\n",
       "\n",
       "    .dataframe thead th {\n",
       "        text-align: right;\n",
       "    }\n",
       "</style>\n",
       "<table border=\"1\" class=\"dataframe\">\n",
       "  <thead>\n",
       "    <tr style=\"text-align: right;\">\n",
       "      <th></th>\n",
       "      <th>eyeDetection</th>\n",
       "    </tr>\n",
       "  </thead>\n",
       "  <tbody>\n",
       "    <tr>\n",
       "      <td>count</td>\n",
       "      <td>14980</td>\n",
       "    </tr>\n",
       "    <tr>\n",
       "      <td>unique</td>\n",
       "      <td>2</td>\n",
       "    </tr>\n",
       "    <tr>\n",
       "      <td>top</td>\n",
       "      <td>b'0'</td>\n",
       "    </tr>\n",
       "    <tr>\n",
       "      <td>freq</td>\n",
       "      <td>8257</td>\n",
       "    </tr>\n",
       "  </tbody>\n",
       "</table>\n",
       "</div>"
      ],
      "text/plain": [
       "       eyeDetection\n",
       "count         14980\n",
       "unique            2\n",
       "top            b'0'\n",
       "freq           8257"
      ]
     },
     "execution_count": 131,
     "metadata": {},
     "output_type": "execute_result"
    }
   ],
   "source": [
    "data.describe(include = [object])"
   ]
  },
  {
   "cell_type": "code",
   "execution_count": 150,
   "metadata": {},
   "outputs": [
    {
     "name": "stdout",
     "output_type": "stream",
     "text": [
      "['eyeDetection'] ['AF3', 'F7', 'F3', 'FC5', 'T7', 'P7', 'O1', 'O2', 'P8', 'T8', 'FC6', 'F4', 'F8', 'AF4']\n"
     ]
    }
   ],
   "source": [
    "binary_columns    = categorical_columns\n",
    "nonbinary_columns = numerical_columns \n",
    "print(binary_columns, nonbinary_columns)"
   ]
  },
  {
   "cell_type": "code",
   "execution_count": 151,
   "metadata": {},
   "outputs": [
    {
     "data": {
      "text/plain": [
       "array([b'0', b'1'], dtype=object)"
      ]
     },
     "execution_count": 151,
     "metadata": {},
     "output_type": "execute_result"
    }
   ],
   "source": [
    "data['eyeDetection'].unique()"
   ]
  },
  {
   "cell_type": "code",
   "execution_count": 152,
   "metadata": {},
   "outputs": [
    {
     "data": {
      "text/plain": [
       "count    14980.000000\n",
       "mean         0.448798\n",
       "std          0.497388\n",
       "min          0.000000\n",
       "25%          0.000000\n",
       "50%          0.000000\n",
       "75%          1.000000\n",
       "max          1.000000\n",
       "Name: eyeDetection, dtype: float64"
      ]
     },
     "execution_count": 152,
     "metadata": {},
     "output_type": "execute_result"
    }
   ],
   "source": [
    "data.at[data['eyeDetection'] == str_o, 'eyeDetection'] = 0\n",
    "data.at[data['eyeDetection'] == str_t, 'eyeDetection'] = 1\n",
    "data['eyeDetection'].describe()"
   ]
  },
  {
   "cell_type": "code",
   "execution_count": 157,
   "metadata": {},
   "outputs": [
    {
     "name": "stdout",
     "output_type": "stream",
     "text": [
      "Index(['AF3', 'F7', 'F3', 'FC5', 'T7', 'P7', 'O1', 'O2', 'P8', 'T8', 'FC6',\n",
      "       'F4', 'F8', 'AF4'],\n",
      "      dtype='object')\n"
     ]
    }
   ],
   "source": [
    "data_nonbinary = pd.get_dummies(data[nonbinary_columns])\n",
    "print(data_nonbinary.columns)"
   ]
  },
  {
   "cell_type": "code",
   "execution_count": 159,
   "metadata": {},
   "outputs": [],
   "source": [
    "data_numerical = (data_numerical - data_numerical.mean(axis = 0))/data_numerical.std(axis = 0)"
   ]
  },
  {
   "cell_type": "code",
   "execution_count": 160,
   "metadata": {},
   "outputs": [
    {
     "name": "stdout",
     "output_type": "stream",
     "text": [
      "(14980, 29)\n"
     ]
    }
   ],
   "source": [
    "data = pd.concat((data_numerical, data_nonbinary, data[binary_columns]), axis = 1)\n",
    "print(data.shape)"
   ]
  },
  {
   "cell_type": "code",
   "execution_count": 162,
   "metadata": {},
   "outputs": [
    {
     "data": {
      "text/html": [
       "<div>\n",
       "<style scoped>\n",
       "    .dataframe tbody tr th:only-of-type {\n",
       "        vertical-align: middle;\n",
       "    }\n",
       "\n",
       "    .dataframe tbody tr th {\n",
       "        vertical-align: top;\n",
       "    }\n",
       "\n",
       "    .dataframe thead th {\n",
       "        text-align: right;\n",
       "    }\n",
       "</style>\n",
       "<table border=\"1\" class=\"dataframe\">\n",
       "  <thead>\n",
       "    <tr style=\"text-align: right;\">\n",
       "      <th></th>\n",
       "      <th>AF3</th>\n",
       "      <th>F7</th>\n",
       "      <th>F3</th>\n",
       "      <th>FC5</th>\n",
       "      <th>T7</th>\n",
       "      <th>P7</th>\n",
       "      <th>O1</th>\n",
       "      <th>O2</th>\n",
       "      <th>P8</th>\n",
       "      <th>T8</th>\n",
       "      <th>...</th>\n",
       "      <th>P7</th>\n",
       "      <th>O1</th>\n",
       "      <th>O2</th>\n",
       "      <th>P8</th>\n",
       "      <th>T8</th>\n",
       "      <th>FC6</th>\n",
       "      <th>F4</th>\n",
       "      <th>F8</th>\n",
       "      <th>AF4</th>\n",
       "      <th>eyeDetection</th>\n",
       "    </tr>\n",
       "  </thead>\n",
       "  <tbody>\n",
       "    <tr>\n",
       "      <td>count</td>\n",
       "      <td>1.498000e+04</td>\n",
       "      <td>1.498000e+04</td>\n",
       "      <td>1.498000e+04</td>\n",
       "      <td>1.498000e+04</td>\n",
       "      <td>1.498000e+04</td>\n",
       "      <td>1.498000e+04</td>\n",
       "      <td>1.498000e+04</td>\n",
       "      <td>1.498000e+04</td>\n",
       "      <td>1.498000e+04</td>\n",
       "      <td>1.498000e+04</td>\n",
       "      <td>...</td>\n",
       "      <td>14980.000000</td>\n",
       "      <td>14980.000000</td>\n",
       "      <td>14980.000000</td>\n",
       "      <td>14980.000000</td>\n",
       "      <td>14980.000000</td>\n",
       "      <td>14980.000000</td>\n",
       "      <td>14980.000000</td>\n",
       "      <td>14980.000000</td>\n",
       "      <td>14980.000000</td>\n",
       "      <td>14980.000000</td>\n",
       "    </tr>\n",
       "    <tr>\n",
       "      <td>mean</td>\n",
       "      <td>1.276261e-18</td>\n",
       "      <td>-4.246788e-16</td>\n",
       "      <td>3.105697e-16</td>\n",
       "      <td>4.456896e-17</td>\n",
       "      <td>1.387562e-15</td>\n",
       "      <td>5.398534e-17</td>\n",
       "      <td>5.714513e-18</td>\n",
       "      <td>6.522004e-18</td>\n",
       "      <td>4.644314e-17</td>\n",
       "      <td>1.535673e-16</td>\n",
       "      <td>...</td>\n",
       "      <td>4644.022379</td>\n",
       "      <td>4110.400160</td>\n",
       "      <td>4616.056904</td>\n",
       "      <td>4218.826610</td>\n",
       "      <td>4231.316200</td>\n",
       "      <td>4202.456900</td>\n",
       "      <td>4279.232774</td>\n",
       "      <td>4615.205336</td>\n",
       "      <td>4416.435832</td>\n",
       "      <td>0.448798</td>\n",
       "    </tr>\n",
       "    <tr>\n",
       "      <td>std</td>\n",
       "      <td>1.000000e+00</td>\n",
       "      <td>1.000000e+00</td>\n",
       "      <td>1.000000e+00</td>\n",
       "      <td>1.000000e+00</td>\n",
       "      <td>1.000000e+00</td>\n",
       "      <td>1.000000e+00</td>\n",
       "      <td>1.000000e+00</td>\n",
       "      <td>1.000000e+00</td>\n",
       "      <td>1.000000e+00</td>\n",
       "      <td>1.000000e+00</td>\n",
       "      <td>...</td>\n",
       "      <td>2924.789537</td>\n",
       "      <td>4600.926543</td>\n",
       "      <td>29.292603</td>\n",
       "      <td>2136.408523</td>\n",
       "      <td>38.050903</td>\n",
       "      <td>37.785981</td>\n",
       "      <td>41.544312</td>\n",
       "      <td>1208.369958</td>\n",
       "      <td>5891.285043</td>\n",
       "      <td>0.497388</td>\n",
       "    </tr>\n",
       "    <tr>\n",
       "      <td>min</td>\n",
       "      <td>-1.320647e+00</td>\n",
       "      <td>-2.566292e+01</td>\n",
       "      <td>-7.256727e+01</td>\n",
       "      <td>-3.281218e-01</td>\n",
       "      <td>-6.482664e+01</td>\n",
       "      <td>-6.413495e-01</td>\n",
       "      <td>-4.399658e-01</td>\n",
       "      <td>-1.668575e+00</td>\n",
       "      <td>-1.339106e+00</td>\n",
       "      <td>-6.346515e+01</td>\n",
       "      <td>...</td>\n",
       "      <td>2768.210000</td>\n",
       "      <td>2086.150000</td>\n",
       "      <td>4567.180000</td>\n",
       "      <td>1357.950000</td>\n",
       "      <td>1816.410000</td>\n",
       "      <td>3273.330000</td>\n",
       "      <td>2257.950000</td>\n",
       "      <td>86.666700</td>\n",
       "      <td>1366.150000</td>\n",
       "      <td>0.000000</td>\n",
       "    </tr>\n",
       "    <tr>\n",
       "      <td>25%</td>\n",
       "      <td>-1.661580e-02</td>\n",
       "      <td>-4.135177e-01</td>\n",
       "      <td>-3.097690e-01</td>\n",
       "      <td>-1.087652e-02</td>\n",
       "      <td>-2.864540e-01</td>\n",
       "      <td>-1.102041e-02</td>\n",
       "      <td>-1.139991e-02</td>\n",
       "      <td>-3.904366e-01</td>\n",
       "      <td>-1.313261e-02</td>\n",
       "      <td>-2.839933e-01</td>\n",
       "      <td>...</td>\n",
       "      <td>4611.790000</td>\n",
       "      <td>4057.950000</td>\n",
       "      <td>4604.620000</td>\n",
       "      <td>4190.770000</td>\n",
       "      <td>4220.510000</td>\n",
       "      <td>4190.260000</td>\n",
       "      <td>4267.690000</td>\n",
       "      <td>4590.770000</td>\n",
       "      <td>4342.050000</td>\n",
       "      <td>0.000000</td>\n",
       "    </tr>\n",
       "    <tr>\n",
       "      <td>50%</td>\n",
       "      <td>-1.105818e-02</td>\n",
       "      <td>-8.984639e-02</td>\n",
       "      <td>-3.291687e-02</td>\n",
       "      <td>-8.518574e-03</td>\n",
       "      <td>-7.976884e-02</td>\n",
       "      <td>-8.914275e-03</td>\n",
       "      <td>-8.724364e-03</td>\n",
       "      <td>-9.309189e-02</td>\n",
       "      <td>-9.050989e-03</td>\n",
       "      <td>-5.482655e-02</td>\n",
       "      <td>...</td>\n",
       "      <td>4617.950000</td>\n",
       "      <td>4070.260000</td>\n",
       "      <td>4613.330000</td>\n",
       "      <td>4199.490000</td>\n",
       "      <td>4229.230000</td>\n",
       "      <td>4200.510000</td>\n",
       "      <td>4276.920000</td>\n",
       "      <td>4603.080000</td>\n",
       "      <td>4354.870000</td>\n",
       "      <td>0.000000</td>\n",
       "    </tr>\n",
       "    <tr>\n",
       "      <td>75%</td>\n",
       "      <td>-4.063998e-03</td>\n",
       "      <td>2.897654e-01</td>\n",
       "      <td>1.518763e-01</td>\n",
       "      <td>-6.256479e-03</td>\n",
       "      <td>1.565662e-01</td>\n",
       "      <td>-5.932864e-03</td>\n",
       "      <td>-5.827122e-03</td>\n",
       "      <td>2.745777e-01</td>\n",
       "      <td>-4.491936e-03</td>\n",
       "      <td>2.148123e-01</td>\n",
       "      <td>...</td>\n",
       "      <td>4626.670000</td>\n",
       "      <td>4083.590000</td>\n",
       "      <td>4624.100000</td>\n",
       "      <td>4209.230000</td>\n",
       "      <td>4239.490000</td>\n",
       "      <td>4211.280000</td>\n",
       "      <td>4287.180000</td>\n",
       "      <td>4617.440000</td>\n",
       "      <td>4372.820000</td>\n",
       "      <td>1.000000</td>\n",
       "    </tr>\n",
       "    <tr>\n",
       "      <td>max</td>\n",
       "      <td>1.223516e+02</td>\n",
       "      <td>8.260153e+01</td>\n",
       "      <td>5.889269e+01</td>\n",
       "      <td>1.223830e+02</td>\n",
       "      <td>6.139008e+01</td>\n",
       "      <td>1.223746e+02</td>\n",
       "      <td>1.223816e+02</td>\n",
       "      <td>9.039972e+01</td>\n",
       "      <td>1.223653e+02</td>\n",
       "      <td>6.420462e+01</td>\n",
       "      <td>...</td>\n",
       "      <td>362564.000000</td>\n",
       "      <td>567179.000000</td>\n",
       "      <td>7264.100000</td>\n",
       "      <td>265641.000000</td>\n",
       "      <td>6674.360000</td>\n",
       "      <td>6823.080000</td>\n",
       "      <td>7002.560000</td>\n",
       "      <td>152308.000000</td>\n",
       "      <td>715897.000000</td>\n",
       "      <td>1.000000</td>\n",
       "    </tr>\n",
       "  </tbody>\n",
       "</table>\n",
       "<p>8 rows × 29 columns</p>\n",
       "</div>"
      ],
      "text/plain": [
       "                AF3            F7            F3           FC5            T7  \\\n",
       "count  1.498000e+04  1.498000e+04  1.498000e+04  1.498000e+04  1.498000e+04   \n",
       "mean   1.276261e-18 -4.246788e-16  3.105697e-16  4.456896e-17  1.387562e-15   \n",
       "std    1.000000e+00  1.000000e+00  1.000000e+00  1.000000e+00  1.000000e+00   \n",
       "min   -1.320647e+00 -2.566292e+01 -7.256727e+01 -3.281218e-01 -6.482664e+01   \n",
       "25%   -1.661580e-02 -4.135177e-01 -3.097690e-01 -1.087652e-02 -2.864540e-01   \n",
       "50%   -1.105818e-02 -8.984639e-02 -3.291687e-02 -8.518574e-03 -7.976884e-02   \n",
       "75%   -4.063998e-03  2.897654e-01  1.518763e-01 -6.256479e-03  1.565662e-01   \n",
       "max    1.223516e+02  8.260153e+01  5.889269e+01  1.223830e+02  6.139008e+01   \n",
       "\n",
       "                 P7            O1            O2            P8            T8  \\\n",
       "count  1.498000e+04  1.498000e+04  1.498000e+04  1.498000e+04  1.498000e+04   \n",
       "mean   5.398534e-17  5.714513e-18  6.522004e-18  4.644314e-17  1.535673e-16   \n",
       "std    1.000000e+00  1.000000e+00  1.000000e+00  1.000000e+00  1.000000e+00   \n",
       "min   -6.413495e-01 -4.399658e-01 -1.668575e+00 -1.339106e+00 -6.346515e+01   \n",
       "25%   -1.102041e-02 -1.139991e-02 -3.904366e-01 -1.313261e-02 -2.839933e-01   \n",
       "50%   -8.914275e-03 -8.724364e-03 -9.309189e-02 -9.050989e-03 -5.482655e-02   \n",
       "75%   -5.932864e-03 -5.827122e-03  2.745777e-01 -4.491936e-03  2.148123e-01   \n",
       "max    1.223746e+02  1.223816e+02  9.039972e+01  1.223653e+02  6.420462e+01   \n",
       "\n",
       "       ...             P7             O1            O2             P8  \\\n",
       "count  ...   14980.000000   14980.000000  14980.000000   14980.000000   \n",
       "mean   ...    4644.022379    4110.400160   4616.056904    4218.826610   \n",
       "std    ...    2924.789537    4600.926543     29.292603    2136.408523   \n",
       "min    ...    2768.210000    2086.150000   4567.180000    1357.950000   \n",
       "25%    ...    4611.790000    4057.950000   4604.620000    4190.770000   \n",
       "50%    ...    4617.950000    4070.260000   4613.330000    4199.490000   \n",
       "75%    ...    4626.670000    4083.590000   4624.100000    4209.230000   \n",
       "max    ...  362564.000000  567179.000000   7264.100000  265641.000000   \n",
       "\n",
       "                 T8           FC6            F4             F8            AF4  \\\n",
       "count  14980.000000  14980.000000  14980.000000   14980.000000   14980.000000   \n",
       "mean    4231.316200   4202.456900   4279.232774    4615.205336    4416.435832   \n",
       "std       38.050903     37.785981     41.544312    1208.369958    5891.285043   \n",
       "min     1816.410000   3273.330000   2257.950000      86.666700    1366.150000   \n",
       "25%     4220.510000   4190.260000   4267.690000    4590.770000    4342.050000   \n",
       "50%     4229.230000   4200.510000   4276.920000    4603.080000    4354.870000   \n",
       "75%     4239.490000   4211.280000   4287.180000    4617.440000    4372.820000   \n",
       "max     6674.360000   6823.080000   7002.560000  152308.000000  715897.000000   \n",
       "\n",
       "       eyeDetection  \n",
       "count  14980.000000  \n",
       "mean       0.448798  \n",
       "std        0.497388  \n",
       "min        0.000000  \n",
       "25%        0.000000  \n",
       "50%        0.000000  \n",
       "75%        1.000000  \n",
       "max        1.000000  \n",
       "\n",
       "[8 rows x 29 columns]"
      ]
     },
     "execution_count": 162,
     "metadata": {},
     "output_type": "execute_result"
    }
   ],
   "source": [
    "data.describe()"
   ]
  },
  {
   "cell_type": "code",
   "execution_count": 164,
   "metadata": {},
   "outputs": [],
   "source": [
    "X = data.drop(('eyeDetection'), axis = 1) # выбрасываем столбец 'class'\n",
    "y = data['eyeDetection']\n",
    "feature_names = X.columns\n"
   ]
  },
  {
   "cell_type": "code",
   "execution_count": 167,
   "metadata": {},
   "outputs": [
    {
     "data": {
      "text/plain": [
       "Index(['AF3', 'F7', 'F3', 'FC5', 'T7', 'P7', 'O1', 'O2', 'P8', 'T8', 'FC6',\n",
       "       'F4', 'F8', 'AF4', 'AF3', 'F7', 'F3', 'FC5', 'T7', 'P7', 'O1', 'O2',\n",
       "       'P8', 'T8', 'FC6', 'F4', 'F8', 'AF4'],\n",
       "      dtype='object')"
      ]
     },
     "execution_count": 167,
     "metadata": {},
     "output_type": "execute_result"
    }
   ],
   "source": [
    "feature_names"
   ]
  },
  {
   "cell_type": "code",
   "execution_count": 169,
   "metadata": {},
   "outputs": [
    {
     "name": "stdout",
     "output_type": "stream",
     "text": [
      "(14980, 28)\n",
      "(14980,)\n"
     ]
    }
   ],
   "source": [
    "print(X.shape)\n",
    "print(y.shape)\n",
    "N, d = X.shape"
   ]
  },
  {
   "cell_type": "code",
   "execution_count": 172,
   "metadata": {},
   "outputs": [
    {
     "name": "stdout",
     "output_type": "stream",
     "text": [
      "10486 4494\n"
     ]
    }
   ],
   "source": [
    "#𝑘NN\n",
    "from sklearn.model_selection import train_test_split\n",
    "X_train, X_test, y_train, y_test = train_test_split(X, y, test_size = 0.3, random_state = 42)\n",
    "\n",
    "N_train, _ = X_train.shape \n",
    "N_test,  _ = X_test.shape \n",
    "\n",
    "print(N_train, N_test)"
   ]
  },
  {
   "cell_type": "code",
   "execution_count": 175,
   "metadata": {},
   "outputs": [
    {
     "data": {
      "text/plain": [
       "KNeighborsClassifier(algorithm='auto', leaf_size=30, metric='minkowski',\n",
       "                     metric_params=None, n_jobs=None, n_neighbors=10, p=2,\n",
       "                     weights='uniform')"
      ]
     },
     "execution_count": 175,
     "metadata": {},
     "output_type": "execute_result"
    }
   ],
   "source": [
    "from sklearn.neighbors import KNeighborsClassifier\n",
    "\n",
    "knn = KNeighborsClassifier(n_neighbors = 10)\n",
    "#knn.set_params(n_neighbors=10)\n",
    "knn.fit(X_train, y_train)"
   ]
  },
  {
   "cell_type": "code",
   "execution_count": 177,
   "metadata": {},
   "outputs": [
    {
     "data": {
      "text/plain": [
       "KNeighborsClassifier(algorithm='auto', leaf_size=30, metric='minkowski',\n",
       "                     metric_params=None, n_jobs=None, n_neighbors=10, p=2,\n",
       "                     weights='uniform')"
      ]
     },
     "execution_count": 177,
     "metadata": {},
     "output_type": "execute_result"
    }
   ],
   "source": [
    "knn"
   ]
  },
  {
   "cell_type": "code",
   "execution_count": 181,
   "metadata": {},
   "outputs": [
    {
     "name": "stdout",
     "output_type": "stream",
     "text": [
      "0.040244135037192444 0.051846906987093905\n"
     ]
    }
   ],
   "source": [
    "y_train_predict = knn.predict(X_train)\n",
    "y_test_predict = knn.predict(X_test)\n",
    "\n",
    "err_train = np.mean(y_train != y_train_predict)\n",
    "err_test  = np.mean(y_test  != y_test_predict)\n",
    "\n",
    "print(err_train, err_test)"
   ]
  },
  {
   "cell_type": "code",
   "execution_count": 184,
   "metadata": {},
   "outputs": [
    {
     "data": {
      "text/plain": [
       "0.05184690698709393"
      ]
     },
     "execution_count": 184,
     "metadata": {},
     "output_type": "execute_result"
    }
   ],
   "source": [
    "err_test = 1 - knn.score(X_test, y_test) # Другой способ\n",
    "err_test"
   ]
  },
  {
   "cell_type": "code",
   "execution_count": 187,
   "metadata": {},
   "outputs": [
    {
     "name": "stdout",
     "output_type": "stream",
     "text": [
      "[[2327   59]\n",
      " [ 174 1934]]\n"
     ]
    },
    {
     "data": {
      "text/plain": [
       "array([[3, 0],\n",
       "       [1, 1]], dtype=int64)"
      ]
     },
     "execution_count": 187,
     "metadata": {},
     "output_type": "execute_result"
    }
   ],
   "source": [
    "from sklearn.metrics import confusion_matrix\n",
    "\n",
    "print(confusion_matrix(y_test, y_test_predict))\n",
    "confusion_matrix([0,1,0,1,0], [0,1,0,0,0])"
   ]
  },
  {
   "cell_type": "code",
   "execution_count": 189,
   "metadata": {},
   "outputs": [
    {
     "name": "stdout",
     "output_type": "stream",
     "text": [
      "0.029277131413313007 1\n"
     ]
    }
   ],
   "source": [
    "#Подбор параметров\n",
    "from sklearn.model_selection import GridSearchCV\n",
    "nnb = [1, 3, 5, 10, 15, 20, 25, 35, 45, 55]\n",
    "knn = KNeighborsClassifier()\n",
    "grid = GridSearchCV(knn, param_grid = {'n_neighbors': nnb}, cv=10)\n",
    "grid.fit(X_train, y_train)\n",
    "\n",
    "best_cv_err = 1 - grid.best_score_\n",
    "best_n_neighbors = grid.best_estimator_.n_neighbors\n",
    "print(best_cv_err, best_n_neighbors)\n"
   ]
  },
  {
   "cell_type": "code",
   "execution_count": 192,
   "metadata": {},
   "outputs": [
    {
     "name": "stdout",
     "output_type": "stream",
     "text": [
      "0.0 0.026924788607031597\n"
     ]
    }
   ],
   "source": [
    "knn = KNeighborsClassifier(n_neighbors = best_n_neighbors).fit(X_train, y_train)\n",
    "\n",
    "err_train = np.mean(y_train != knn.predict(X_train))\n",
    "err_test  = np.mean(y_test  != knn.predict(X_test))\n",
    "\n",
    "print(err_train, err_test)\n"
   ]
  },
  {
   "cell_type": "code",
   "execution_count": 196,
   "metadata": {},
   "outputs": [
    {
     "name": "stderr",
     "output_type": "stream",
     "text": [
      "C:\\Users\\Nikita\\Anaconda3\\lib\\site-packages\\sklearn\\svm\\base.py:193: FutureWarning: The default value of gamma will change from 'auto' to 'scale' in version 0.22 to account better for unscaled features. Set gamma explicitly to 'auto' or 'scale' to avoid this warning.\n",
      "  \"avoid this warning.\", FutureWarning)\n"
     ]
    },
    {
     "name": "stdout",
     "output_type": "stream",
     "text": [
      "0.0 0.465954606141522\n"
     ]
    }
   ],
   "source": [
    "from sklearn.svm import SVC\n",
    "svc = SVC()\n",
    "svc.fit(X_train, y_train)\n",
    "\n",
    "err_train = np.mean(y_train != svc.predict(X_train))\n",
    "err_test  = np.mean(y_test  != svc.predict(X_test))\n",
    "\n",
    "print(err_train, err_test)"
   ]
  },
  {
   "cell_type": "code",
   "execution_count": 200,
   "metadata": {},
   "outputs": [],
   "source": [
    "from sklearn.model_selection import GridSearchCV\n",
    "#очень долго"
   ]
  },
  {
   "cell_type": "code",
   "execution_count": 201,
   "metadata": {},
   "outputs": [
    {
     "name": "stdout",
     "output_type": "stream",
     "text": [
      "0.0 0.07521139296840232\n"
     ]
    }
   ],
   "source": [
    "from sklearn import ensemble\n",
    "rf = ensemble.RandomForestClassifier(n_estimators = 1000)\n",
    "rf.fit(X_train, y_train)\n",
    "\n",
    "err_train = np.mean(y_train != rf.predict(X_train))\n",
    "err_test  = np.mean(y_test  != rf.predict(X_test))\n",
    "\n",
    "print(err_train, err_test)"
   ]
  },
  {
   "cell_type": "code",
   "execution_count": 203,
   "metadata": {},
   "outputs": [
    {
     "data": {
      "text/plain": [
       "[3, 234, 7, 4, 3, 32]"
      ]
     },
     "execution_count": 203,
     "metadata": {},
     "output_type": "execute_result"
    }
   ],
   "source": [
    "#Значимость признаков\n",
    "a=[1,2,5,70,32,3,4,7,234, 3]\n",
    "a[-1:3:-1]"
   ]
  },
  {
   "cell_type": "code",
   "execution_count": 204,
   "metadata": {},
   "outputs": [
    {
     "data": {
      "text/plain": [
       "1.0000000000000002"
      ]
     },
     "execution_count": 204,
     "metadata": {},
     "output_type": "execute_result"
    }
   ],
   "source": [
    "np.sum(rf.feature_importances_)"
   ]
  },
  {
   "cell_type": "code",
   "execution_count": 205,
   "metadata": {},
   "outputs": [
    {
     "name": "stdout",
     "output_type": "stream",
     "text": [
      "Feature ranking:\n",
      " 1. feature '   O1' (0.061283)\n",
      " 2. feature '   O1' (0.059472)\n",
      " 3. feature '   P7' (0.055687)\n",
      " 4. feature '   P7' (0.055518)\n",
      " 5. feature '   F7' (0.046652)\n",
      " 6. feature '   F7' (0.046591)\n",
      " 7. feature '   F8' (0.041898)\n",
      " 8. feature '   F8' (0.041556)\n",
      " 9. feature '  AF4' (0.040518)\n",
      "10. feature '  AF4' (0.040153)\n",
      "11. feature '  AF3' (0.037459)\n",
      "12. feature '  AF3' (0.035751)\n",
      "13. feature '   F4' (0.031676)\n",
      "14. feature '   F4' (0.031286)\n",
      "15. feature '  FC5' (0.030370)\n",
      "16. feature '  FC6' (0.029586)\n",
      "17. feature '  FC5' (0.029508)\n",
      "18. feature '  FC6' (0.028906)\n",
      "19. feature '   T8' (0.027883)\n",
      "20. feature '   O2' (0.027713)\n",
      "21. feature '   O2' (0.027647)\n",
      "22. feature '   T8' (0.027382)\n",
      "23. feature '   T7' (0.026506)\n",
      "24. feature '   T7' (0.026290)\n",
      "25. feature '   F3' (0.026114)\n",
      "26. feature '   F3' (0.025878)\n",
      "27. feature '   P8' (0.020469)\n",
      "28. feature '   P8' (0.020248)\n"
     ]
    }
   ],
   "source": [
    "importances = rf.feature_importances_\n",
    "indices = np.argsort(importances)[::-1]\n",
    "\n",
    "print(\"Feature ranking:\")\n",
    "\n",
    "for f in range(d):\n",
    "    print(\"%2d. feature '%5s' (%f)\" % (f + 1, feature_names[indices[f]], importances[indices[f]]))   "
   ]
  },
  {
   "cell_type": "code",
   "execution_count": 207,
   "metadata": {},
   "outputs": [
    {
     "data": {
      "text/plain": [
       "Index(['F7', 'AF3', 'F7'], dtype='object')"
      ]
     },
     "execution_count": 207,
     "metadata": {},
     "output_type": "execute_result"
    }
   ],
   "source": [
    "feature_names[[1,0,1]]"
   ]
  },
  {
   "cell_type": "code",
   "execution_count": 209,
   "metadata": {},
   "outputs": [
    {
     "data": {
      "text/plain": [
       "(-1, 20)"
      ]
     },
     "execution_count": 209,
     "metadata": {},
     "output_type": "execute_result"
    },
    {
     "data": {
      "image/png": "[encoded data removed]",
      "text/plain": [
       "<Figure size 432x288 with 1 Axes>"
      ]
     },
     "metadata": {
      "needs_background": "light"
     },
     "output_type": "display_data"
    }
   ],
   "source": [
    "d_first = 20\n",
    "plt.title(\"Feature importances\")\n",
    "plt.bar(range(d_first), importances[indices[:d_first]], align = 'center', color = 'r')\n",
    "plt.xticks(range(d_first), feature_names[indices[:d_first]], rotation = 90)\n",
    "plt.xlim([-1, d_first])"
   ]
  },
  {
   "cell_type": "code",
   "execution_count": 210,
   "metadata": {},
   "outputs": [
    {
     "name": "stdout",
     "output_type": "stream",
     "text": [
      "0.0 0.05585224744103249\n"
     ]
    }
   ],
   "source": [
    "#Extremely Randomized Tree\n",
    "ert = ensemble.ExtraTreesClassifier(n_estimators = 100).fit(X_train, y_train)\n",
    "\n",
    "err_train = np.mean(y_train != ert.predict(X_train))\n",
    "err_test  = np.mean(y_test  != ert.predict(X_test))\n",
    "\n",
    "print(err_train, err_test)"
   ]
  },
  {
   "cell_type": "code",
   "execution_count": 211,
   "metadata": {},
   "outputs": [
    {
     "name": "stdout",
     "output_type": "stream",
     "text": [
      "0.19340072477589165 0.22785936804628393\n"
     ]
    }
   ],
   "source": [
    "#AdaBoost\n",
    "ada = ensemble.AdaBoostClassifier(n_estimators = 1000)\n",
    "ada.fit(X_train, y_train)\n",
    "\n",
    "err_train = np.mean(y_train != ada.predict(X_train))\n",
    "err_test = np.mean(y_test != ada.predict(X_test))\n",
    "\n",
    "print(err_train, err_test)"
   ]
  },
  {
   "cell_type": "code",
   "execution_count": 212,
   "metadata": {},
   "outputs": [
    {
     "name": "stdout",
     "output_type": "stream",
     "text": [
      "0.026511539195117298 0.08789497107254117\n"
     ]
    }
   ],
   "source": [
    "#GBT\n",
    "gbt = ensemble.GradientBoostingClassifier(n_estimators = 1000)\n",
    "gbt.fit(X_train, y_train)\n",
    "\n",
    "err_train = np.mean(y_train != gbt.predict(X_train))\n",
    "err_test = np.mean(y_test != gbt.predict(X_test))\n",
    "\n",
    "print(err_train, err_test)"
   ]
  }
 ],
 "metadata": {
  "kernelspec": {
   "display_name": "Python 3",
   "language": "python",
   "name": "python3"
  },
  "language_info": {
   "codemirror_mode": {
    "name": "ipython",
    "version": 3
   },
   "file_extension": ".py",
   "mimetype": "text/x-python",
   "name": "python",
   "nbconvert_exporter": "python",
   "pygments_lexer": "ipython3",
   "version": "3.7.4"
  }
 },
 "nbformat": 4,
 "nbformat_minor": 2
}
